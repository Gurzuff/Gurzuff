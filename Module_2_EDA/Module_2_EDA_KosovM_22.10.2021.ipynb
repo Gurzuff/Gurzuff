{
 "cells": [
  {
   "cell_type": "markdown",
   "metadata": {},
   "source": [
    "# Проект 2. Разведывательный анализ данных"
   ]
  },
  {
   "cell_type": "markdown",
   "metadata": {},
   "source": [
    "### Суть проекта — отследить влияние условий жизни учащихся в возрасте от 15 до 22 лет на их успеваемость по математике, чтобы на ранней стадии выявлять студентов, находящихся в группе риска."
   ]
  },
  {
   "cell_type": "markdown",
   "metadata": {},
   "source": [
    "# Первичный осмотр данных"
   ]
  },
  {
   "cell_type": "code",
   "execution_count": 1,
   "metadata": {
    "_cell_guid": "b1076dfc-b9ad-4769-8c92-a6c4dae69d19",
    "_uuid": "8f2839f25d086af736a60e9eeb907d3b93b6e0e5",
    "colab": {},
    "colab_type": "code",
    "id": "U2D2gTdJVp90"
   },
   "outputs": [],
   "source": [
    "import numpy as np\n",
    "import pandas as pd\n",
    "import matplotlib.pyplot as plt\n",
    "import seaborn as sns\n",
    "from itertools import combinations\n",
    "from scipy.stats import ttest_ind\n",
    "from scipy import interpolate\n",
    "import warnings\n",
    "\n",
    "# убираем предупреждения по библиотеки seaborn:\n",
    "warnings.simplefilter('ignore')\n",
    "\n",
    "# будем использовать более удобный для восприятия стиль:\n",
    "sns.set_theme(style='whitegrid')\n",
    "\n",
    "pd.set_option('display.max_columns', 30)"
   ]
  },
  {
   "cell_type": "code",
   "execution_count": 2,
   "metadata": {
    "_cell_guid": "79c7e3d0-c299-4dcb-8224-4455121ee9b0",
    "_uuid": "d629ff2d2480ee46fbb7e2d37f6b5fab8052498a",
    "colab": {},
    "colab_type": "code",
    "id": "oyGfxL3eVp9-",
    "scrolled": false
   },
   "outputs": [
    {
     "data": {
      "text/html": [
       "<div>\n",
       "<style scoped>\n",
       "    .dataframe tbody tr th:only-of-type {\n",
       "        vertical-align: middle;\n",
       "    }\n",
       "\n",
       "    .dataframe tbody tr th {\n",
       "        vertical-align: top;\n",
       "    }\n",
       "\n",
       "    .dataframe thead th {\n",
       "        text-align: right;\n",
       "    }\n",
       "</style>\n",
       "<table border=\"1\" class=\"dataframe\">\n",
       "  <thead>\n",
       "    <tr style=\"text-align: right;\">\n",
       "      <th></th>\n",
       "      <th>school</th>\n",
       "      <th>sex</th>\n",
       "      <th>age</th>\n",
       "      <th>address</th>\n",
       "      <th>famsize</th>\n",
       "      <th>Pstatus</th>\n",
       "      <th>Medu</th>\n",
       "      <th>Fedu</th>\n",
       "      <th>Mjob</th>\n",
       "      <th>Fjob</th>\n",
       "      <th>reason</th>\n",
       "      <th>guardian</th>\n",
       "      <th>traveltime</th>\n",
       "      <th>studytime</th>\n",
       "      <th>failures</th>\n",
       "      <th>schoolsup</th>\n",
       "      <th>famsup</th>\n",
       "      <th>paid</th>\n",
       "      <th>activities</th>\n",
       "      <th>nursery</th>\n",
       "      <th>studytime, granular</th>\n",
       "      <th>higher</th>\n",
       "      <th>internet</th>\n",
       "      <th>romantic</th>\n",
       "      <th>famrel</th>\n",
       "      <th>freetime</th>\n",
       "      <th>goout</th>\n",
       "      <th>health</th>\n",
       "      <th>absences</th>\n",
       "      <th>score</th>\n",
       "    </tr>\n",
       "  </thead>\n",
       "  <tbody>\n",
       "    <tr>\n",
       "      <th>0</th>\n",
       "      <td>GP</td>\n",
       "      <td>F</td>\n",
       "      <td>18</td>\n",
       "      <td>U</td>\n",
       "      <td>NaN</td>\n",
       "      <td>A</td>\n",
       "      <td>4.0</td>\n",
       "      <td>4.0</td>\n",
       "      <td>at_home</td>\n",
       "      <td>teacher</td>\n",
       "      <td>course</td>\n",
       "      <td>mother</td>\n",
       "      <td>2.0</td>\n",
       "      <td>2.0</td>\n",
       "      <td>0.0</td>\n",
       "      <td>yes</td>\n",
       "      <td>no</td>\n",
       "      <td>no</td>\n",
       "      <td>no</td>\n",
       "      <td>yes</td>\n",
       "      <td>-6.0</td>\n",
       "      <td>yes</td>\n",
       "      <td>NaN</td>\n",
       "      <td>no</td>\n",
       "      <td>4.0</td>\n",
       "      <td>3.0</td>\n",
       "      <td>4.0</td>\n",
       "      <td>3.0</td>\n",
       "      <td>6.0</td>\n",
       "      <td>30.0</td>\n",
       "    </tr>\n",
       "    <tr>\n",
       "      <th>1</th>\n",
       "      <td>GP</td>\n",
       "      <td>F</td>\n",
       "      <td>17</td>\n",
       "      <td>U</td>\n",
       "      <td>GT3</td>\n",
       "      <td>NaN</td>\n",
       "      <td>1.0</td>\n",
       "      <td>1.0</td>\n",
       "      <td>at_home</td>\n",
       "      <td>other</td>\n",
       "      <td>course</td>\n",
       "      <td>father</td>\n",
       "      <td>1.0</td>\n",
       "      <td>2.0</td>\n",
       "      <td>0.0</td>\n",
       "      <td>no</td>\n",
       "      <td>yes</td>\n",
       "      <td>no</td>\n",
       "      <td>no</td>\n",
       "      <td>no</td>\n",
       "      <td>-6.0</td>\n",
       "      <td>yes</td>\n",
       "      <td>yes</td>\n",
       "      <td>no</td>\n",
       "      <td>5.0</td>\n",
       "      <td>3.0</td>\n",
       "      <td>3.0</td>\n",
       "      <td>3.0</td>\n",
       "      <td>4.0</td>\n",
       "      <td>30.0</td>\n",
       "    </tr>\n",
       "    <tr>\n",
       "      <th>2</th>\n",
       "      <td>GP</td>\n",
       "      <td>F</td>\n",
       "      <td>15</td>\n",
       "      <td>U</td>\n",
       "      <td>LE3</td>\n",
       "      <td>T</td>\n",
       "      <td>1.0</td>\n",
       "      <td>1.0</td>\n",
       "      <td>at_home</td>\n",
       "      <td>other</td>\n",
       "      <td>other</td>\n",
       "      <td>mother</td>\n",
       "      <td>1.0</td>\n",
       "      <td>2.0</td>\n",
       "      <td>3.0</td>\n",
       "      <td>yes</td>\n",
       "      <td>no</td>\n",
       "      <td>NaN</td>\n",
       "      <td>no</td>\n",
       "      <td>yes</td>\n",
       "      <td>-6.0</td>\n",
       "      <td>yes</td>\n",
       "      <td>yes</td>\n",
       "      <td>NaN</td>\n",
       "      <td>4.0</td>\n",
       "      <td>3.0</td>\n",
       "      <td>2.0</td>\n",
       "      <td>3.0</td>\n",
       "      <td>10.0</td>\n",
       "      <td>50.0</td>\n",
       "    </tr>\n",
       "    <tr>\n",
       "      <th>3</th>\n",
       "      <td>GP</td>\n",
       "      <td>F</td>\n",
       "      <td>15</td>\n",
       "      <td>U</td>\n",
       "      <td>GT3</td>\n",
       "      <td>T</td>\n",
       "      <td>4.0</td>\n",
       "      <td>2.0</td>\n",
       "      <td>health</td>\n",
       "      <td>NaN</td>\n",
       "      <td>home</td>\n",
       "      <td>mother</td>\n",
       "      <td>1.0</td>\n",
       "      <td>3.0</td>\n",
       "      <td>0.0</td>\n",
       "      <td>no</td>\n",
       "      <td>yes</td>\n",
       "      <td>yes</td>\n",
       "      <td>yes</td>\n",
       "      <td>yes</td>\n",
       "      <td>-9.0</td>\n",
       "      <td>yes</td>\n",
       "      <td>yes</td>\n",
       "      <td>yes</td>\n",
       "      <td>3.0</td>\n",
       "      <td>2.0</td>\n",
       "      <td>2.0</td>\n",
       "      <td>5.0</td>\n",
       "      <td>2.0</td>\n",
       "      <td>75.0</td>\n",
       "    </tr>\n",
       "    <tr>\n",
       "      <th>4</th>\n",
       "      <td>GP</td>\n",
       "      <td>F</td>\n",
       "      <td>16</td>\n",
       "      <td>U</td>\n",
       "      <td>GT3</td>\n",
       "      <td>T</td>\n",
       "      <td>3.0</td>\n",
       "      <td>3.0</td>\n",
       "      <td>other</td>\n",
       "      <td>other</td>\n",
       "      <td>home</td>\n",
       "      <td>father</td>\n",
       "      <td>1.0</td>\n",
       "      <td>2.0</td>\n",
       "      <td>0.0</td>\n",
       "      <td>no</td>\n",
       "      <td>yes</td>\n",
       "      <td>yes</td>\n",
       "      <td>no</td>\n",
       "      <td>yes</td>\n",
       "      <td>-6.0</td>\n",
       "      <td>yes</td>\n",
       "      <td>no</td>\n",
       "      <td>no</td>\n",
       "      <td>4.0</td>\n",
       "      <td>3.0</td>\n",
       "      <td>2.0</td>\n",
       "      <td>5.0</td>\n",
       "      <td>4.0</td>\n",
       "      <td>50.0</td>\n",
       "    </tr>\n",
       "    <tr>\n",
       "      <th>...</th>\n",
       "      <td>...</td>\n",
       "      <td>...</td>\n",
       "      <td>...</td>\n",
       "      <td>...</td>\n",
       "      <td>...</td>\n",
       "      <td>...</td>\n",
       "      <td>...</td>\n",
       "      <td>...</td>\n",
       "      <td>...</td>\n",
       "      <td>...</td>\n",
       "      <td>...</td>\n",
       "      <td>...</td>\n",
       "      <td>...</td>\n",
       "      <td>...</td>\n",
       "      <td>...</td>\n",
       "      <td>...</td>\n",
       "      <td>...</td>\n",
       "      <td>...</td>\n",
       "      <td>...</td>\n",
       "      <td>...</td>\n",
       "      <td>...</td>\n",
       "      <td>...</td>\n",
       "      <td>...</td>\n",
       "      <td>...</td>\n",
       "      <td>...</td>\n",
       "      <td>...</td>\n",
       "      <td>...</td>\n",
       "      <td>...</td>\n",
       "      <td>...</td>\n",
       "      <td>...</td>\n",
       "    </tr>\n",
       "    <tr>\n",
       "      <th>390</th>\n",
       "      <td>MS</td>\n",
       "      <td>M</td>\n",
       "      <td>20</td>\n",
       "      <td>U</td>\n",
       "      <td>LE3</td>\n",
       "      <td>A</td>\n",
       "      <td>2.0</td>\n",
       "      <td>2.0</td>\n",
       "      <td>services</td>\n",
       "      <td>services</td>\n",
       "      <td>course</td>\n",
       "      <td>NaN</td>\n",
       "      <td>1.0</td>\n",
       "      <td>2.0</td>\n",
       "      <td>2.0</td>\n",
       "      <td>no</td>\n",
       "      <td>yes</td>\n",
       "      <td>yes</td>\n",
       "      <td>no</td>\n",
       "      <td>yes</td>\n",
       "      <td>-6.0</td>\n",
       "      <td>yes</td>\n",
       "      <td>no</td>\n",
       "      <td>no</td>\n",
       "      <td>5.0</td>\n",
       "      <td>5.0</td>\n",
       "      <td>4.0</td>\n",
       "      <td>4.0</td>\n",
       "      <td>212.0</td>\n",
       "      <td>45.0</td>\n",
       "    </tr>\n",
       "    <tr>\n",
       "      <th>391</th>\n",
       "      <td>MS</td>\n",
       "      <td>M</td>\n",
       "      <td>17</td>\n",
       "      <td>U</td>\n",
       "      <td>LE3</td>\n",
       "      <td>T</td>\n",
       "      <td>3.0</td>\n",
       "      <td>1.0</td>\n",
       "      <td>services</td>\n",
       "      <td>services</td>\n",
       "      <td>course</td>\n",
       "      <td>mother</td>\n",
       "      <td>2.0</td>\n",
       "      <td>1.0</td>\n",
       "      <td>0.0</td>\n",
       "      <td>no</td>\n",
       "      <td>no</td>\n",
       "      <td>no</td>\n",
       "      <td>no</td>\n",
       "      <td>no</td>\n",
       "      <td>-3.0</td>\n",
       "      <td>yes</td>\n",
       "      <td>yes</td>\n",
       "      <td>no</td>\n",
       "      <td>2.0</td>\n",
       "      <td>4.0</td>\n",
       "      <td>5.0</td>\n",
       "      <td>2.0</td>\n",
       "      <td>3.0</td>\n",
       "      <td>80.0</td>\n",
       "    </tr>\n",
       "    <tr>\n",
       "      <th>392</th>\n",
       "      <td>MS</td>\n",
       "      <td>M</td>\n",
       "      <td>21</td>\n",
       "      <td>R</td>\n",
       "      <td>GT3</td>\n",
       "      <td>T</td>\n",
       "      <td>1.0</td>\n",
       "      <td>1.0</td>\n",
       "      <td>other</td>\n",
       "      <td>other</td>\n",
       "      <td>course</td>\n",
       "      <td>NaN</td>\n",
       "      <td>1.0</td>\n",
       "      <td>1.0</td>\n",
       "      <td>3.0</td>\n",
       "      <td>NaN</td>\n",
       "      <td>no</td>\n",
       "      <td>no</td>\n",
       "      <td>no</td>\n",
       "      <td>no</td>\n",
       "      <td>-3.0</td>\n",
       "      <td>NaN</td>\n",
       "      <td>no</td>\n",
       "      <td>no</td>\n",
       "      <td>5.0</td>\n",
       "      <td>5.0</td>\n",
       "      <td>3.0</td>\n",
       "      <td>3.0</td>\n",
       "      <td>3.0</td>\n",
       "      <td>35.0</td>\n",
       "    </tr>\n",
       "    <tr>\n",
       "      <th>393</th>\n",
       "      <td>MS</td>\n",
       "      <td>M</td>\n",
       "      <td>18</td>\n",
       "      <td>R</td>\n",
       "      <td>LE3</td>\n",
       "      <td>T</td>\n",
       "      <td>3.0</td>\n",
       "      <td>2.0</td>\n",
       "      <td>services</td>\n",
       "      <td>other</td>\n",
       "      <td>course</td>\n",
       "      <td>mother</td>\n",
       "      <td>3.0</td>\n",
       "      <td>1.0</td>\n",
       "      <td>0.0</td>\n",
       "      <td>no</td>\n",
       "      <td>no</td>\n",
       "      <td>no</td>\n",
       "      <td>NaN</td>\n",
       "      <td>no</td>\n",
       "      <td>-3.0</td>\n",
       "      <td>yes</td>\n",
       "      <td>yes</td>\n",
       "      <td>no</td>\n",
       "      <td>4.0</td>\n",
       "      <td>4.0</td>\n",
       "      <td>1.0</td>\n",
       "      <td>5.0</td>\n",
       "      <td>0.0</td>\n",
       "      <td>50.0</td>\n",
       "    </tr>\n",
       "    <tr>\n",
       "      <th>394</th>\n",
       "      <td>MS</td>\n",
       "      <td>M</td>\n",
       "      <td>19</td>\n",
       "      <td>U</td>\n",
       "      <td>LE3</td>\n",
       "      <td>T</td>\n",
       "      <td>1.0</td>\n",
       "      <td>1.0</td>\n",
       "      <td>other</td>\n",
       "      <td>at_home</td>\n",
       "      <td>NaN</td>\n",
       "      <td>father</td>\n",
       "      <td>1.0</td>\n",
       "      <td>1.0</td>\n",
       "      <td>0.0</td>\n",
       "      <td>NaN</td>\n",
       "      <td>no</td>\n",
       "      <td>no</td>\n",
       "      <td>no</td>\n",
       "      <td>yes</td>\n",
       "      <td>-3.0</td>\n",
       "      <td>yes</td>\n",
       "      <td>yes</td>\n",
       "      <td>no</td>\n",
       "      <td>3.0</td>\n",
       "      <td>2.0</td>\n",
       "      <td>3.0</td>\n",
       "      <td>5.0</td>\n",
       "      <td>5.0</td>\n",
       "      <td>45.0</td>\n",
       "    </tr>\n",
       "  </tbody>\n",
       "</table>\n",
       "<p>395 rows × 30 columns</p>\n",
       "</div>"
      ],
      "text/plain": [
       "    school sex  age address famsize Pstatus  Medu  Fedu      Mjob      Fjob  \\\n",
       "0       GP   F   18       U     NaN       A   4.0   4.0   at_home   teacher   \n",
       "1       GP   F   17       U     GT3     NaN   1.0   1.0   at_home     other   \n",
       "2       GP   F   15       U     LE3       T   1.0   1.0   at_home     other   \n",
       "3       GP   F   15       U     GT3       T   4.0   2.0    health       NaN   \n",
       "4       GP   F   16       U     GT3       T   3.0   3.0     other     other   \n",
       "..     ...  ..  ...     ...     ...     ...   ...   ...       ...       ...   \n",
       "390     MS   M   20       U     LE3       A   2.0   2.0  services  services   \n",
       "391     MS   M   17       U     LE3       T   3.0   1.0  services  services   \n",
       "392     MS   M   21       R     GT3       T   1.0   1.0     other     other   \n",
       "393     MS   M   18       R     LE3       T   3.0   2.0  services     other   \n",
       "394     MS   M   19       U     LE3       T   1.0   1.0     other   at_home   \n",
       "\n",
       "     reason guardian  traveltime  studytime  failures schoolsup famsup paid  \\\n",
       "0    course   mother         2.0        2.0       0.0       yes     no   no   \n",
       "1    course   father         1.0        2.0       0.0        no    yes   no   \n",
       "2     other   mother         1.0        2.0       3.0       yes     no  NaN   \n",
       "3      home   mother         1.0        3.0       0.0        no    yes  yes   \n",
       "4      home   father         1.0        2.0       0.0        no    yes  yes   \n",
       "..      ...      ...         ...        ...       ...       ...    ...  ...   \n",
       "390  course      NaN         1.0        2.0       2.0        no    yes  yes   \n",
       "391  course   mother         2.0        1.0       0.0        no     no   no   \n",
       "392  course      NaN         1.0        1.0       3.0       NaN     no   no   \n",
       "393  course   mother         3.0        1.0       0.0        no     no   no   \n",
       "394     NaN   father         1.0        1.0       0.0       NaN     no   no   \n",
       "\n",
       "    activities nursery  studytime, granular higher internet romantic  famrel  \\\n",
       "0           no     yes                 -6.0    yes      NaN       no     4.0   \n",
       "1           no      no                 -6.0    yes      yes       no     5.0   \n",
       "2           no     yes                 -6.0    yes      yes      NaN     4.0   \n",
       "3          yes     yes                 -9.0    yes      yes      yes     3.0   \n",
       "4           no     yes                 -6.0    yes       no       no     4.0   \n",
       "..         ...     ...                  ...    ...      ...      ...     ...   \n",
       "390         no     yes                 -6.0    yes       no       no     5.0   \n",
       "391         no      no                 -3.0    yes      yes       no     2.0   \n",
       "392         no      no                 -3.0    NaN       no       no     5.0   \n",
       "393        NaN      no                 -3.0    yes      yes       no     4.0   \n",
       "394         no     yes                 -3.0    yes      yes       no     3.0   \n",
       "\n",
       "     freetime  goout  health  absences  score  \n",
       "0         3.0    4.0     3.0       6.0   30.0  \n",
       "1         3.0    3.0     3.0       4.0   30.0  \n",
       "2         3.0    2.0     3.0      10.0   50.0  \n",
       "3         2.0    2.0     5.0       2.0   75.0  \n",
       "4         3.0    2.0     5.0       4.0   50.0  \n",
       "..        ...    ...     ...       ...    ...  \n",
       "390       5.0    4.0     4.0     212.0   45.0  \n",
       "391       4.0    5.0     2.0       3.0   80.0  \n",
       "392       5.0    3.0     3.0       3.0   35.0  \n",
       "393       4.0    1.0     5.0       0.0   50.0  \n",
       "394       2.0    3.0     5.0       5.0   45.0  \n",
       "\n",
       "[395 rows x 30 columns]"
      ]
     },
     "execution_count": 2,
     "metadata": {},
     "output_type": "execute_result"
    }
   ],
   "source": [
    "db = pd.read_csv(r'C:\\Users\\mailk\\PycharmProjects\\SkillF\\Mod.2 - EDA\\stud_math.csv')\n",
    "df = db.copy()\n",
    "df"
   ]
  },
  {
   "cell_type": "code",
   "execution_count": 3,
   "metadata": {
    "scrolled": false
   },
   "outputs": [
    {
     "name": "stdout",
     "output_type": "stream",
     "text": [
      "<class 'pandas.core.frame.DataFrame'>\n",
      "RangeIndex: 395 entries, 0 to 394\n",
      "Data columns (total 30 columns):\n",
      " #   Column               Non-Null Count  Dtype  \n",
      "---  ------               --------------  -----  \n",
      " 0   school               395 non-null    object \n",
      " 1   sex                  395 non-null    object \n",
      " 2   age                  395 non-null    int64  \n",
      " 3   address              378 non-null    object \n",
      " 4   famsize              368 non-null    object \n",
      " 5   Pstatus              350 non-null    object \n",
      " 6   Medu                 392 non-null    float64\n",
      " 7   Fedu                 371 non-null    float64\n",
      " 8   Mjob                 376 non-null    object \n",
      " 9   Fjob                 359 non-null    object \n",
      " 10  reason               378 non-null    object \n",
      " 11  guardian             364 non-null    object \n",
      " 12  traveltime           367 non-null    float64\n",
      " 13  studytime            388 non-null    float64\n",
      " 14  failures             373 non-null    float64\n",
      " 15  schoolsup            386 non-null    object \n",
      " 16  famsup               356 non-null    object \n",
      " 17  paid                 355 non-null    object \n",
      " 18  activities           381 non-null    object \n",
      " 19  nursery              379 non-null    object \n",
      " 20  studytime, granular  388 non-null    float64\n",
      " 21  higher               375 non-null    object \n",
      " 22  internet             361 non-null    object \n",
      " 23  romantic             364 non-null    object \n",
      " 24  famrel               368 non-null    float64\n",
      " 25  freetime             384 non-null    float64\n",
      " 26  goout                387 non-null    float64\n",
      " 27  health               380 non-null    float64\n",
      " 28  absences             383 non-null    float64\n",
      " 29  score                389 non-null    float64\n",
      "dtypes: float64(12), int64(1), object(17)\n",
      "memory usage: 92.7+ KB\n"
     ]
    }
   ],
   "source": [
    "df.info()"
   ]
  },
  {
   "cell_type": "markdown",
   "metadata": {},
   "source": [
    "Посмотрим на наличие пропусков в наших данных:"
   ]
  },
  {
   "cell_type": "code",
   "execution_count": 4,
   "metadata": {
    "scrolled": false
   },
   "outputs": [
    {
     "data": {
      "text/plain": [
       "school                  0\n",
       "sex                     0\n",
       "age                     0\n",
       "Medu                    3\n",
       "score                   6\n",
       "studytime, granular     7\n",
       "studytime               7\n",
       "goout                   8\n",
       "schoolsup               9\n",
       "freetime               11\n",
       "absences               12\n",
       "activities             14\n",
       "health                 15\n",
       "nursery                16\n",
       "address                17\n",
       "reason                 17\n",
       "Mjob                   19\n",
       "higher                 20\n",
       "failures               22\n",
       "Fedu                   24\n",
       "famrel                 27\n",
       "famsize                27\n",
       "traveltime             28\n",
       "guardian               31\n",
       "romantic               31\n",
       "internet               34\n",
       "Fjob                   36\n",
       "famsup                 39\n",
       "paid                   40\n",
       "Pstatus                45\n",
       "dtype: int64"
      ]
     },
     "execution_count": 4,
     "metadata": {},
     "output_type": "execute_result"
    }
   ],
   "source": [
    "df.isnull().sum().sort_values()"
   ]
  },
  {
   "cell_type": "code",
   "execution_count": 5,
   "metadata": {
    "scrolled": false
   },
   "outputs": [
    {
     "data": {
      "text/plain": [
       "<AxesSubplot:>"
      ]
     },
     "execution_count": 5,
     "metadata": {},
     "output_type": "execute_result"
    },
    {
     "data": {
      "image/png": "[encoded data removed]",
      "text/plain": [
       "<Figure size 1152x576 with 2 Axes>"
      ]
     },
     "metadata": {},
     "output_type": "display_data"
    }
   ],
   "source": [
    "plt.figure(figsize=(16, 8))\n",
    "sns.heatmap(df.isnull())"
   ]
  },
  {
   "cell_type": "markdown",
   "metadata": {},
   "source": [
    "#### Сразу оговоримся что пропуски заполнять случайными или самыми часто встречающимися значениями не будем, т.к. это с моей точки зрения не добавит модели точности (хотя возможно я и ошибаюсь, но на данном этапе обучения у меня не было информации на основании которой я мог бы сделать правильные выводы на этот счет), и будем пользоваться принципом \"лучше меньше, да лучше\"."
   ]
  },
  {
   "cell_type": "markdown",
   "metadata": {},
   "source": [
    "#### В датафрейме представленны данные о 395 учениках, присутствуют 13 числовых и 17 номинативных параметра. Так же видим что во всех параметрах, кроме первых трех, присутствуют пустые значения. Максимальное кол-во попущенных данных присутствует в параметрах: 'Pstatus', 'famsize', 'paid' и составляет 10-11%. Можем говорить о том что пропуски в целом по датасэту распределены равномерно."
   ]
  },
  {
   "cell_type": "markdown",
   "metadata": {
    "colab_type": "text",
    "id": "DTIt7ezGVp-G"
   },
   "source": [
    "# Предобработка"
   ]
  },
  {
   "cell_type": "code",
   "execution_count": 6,
   "metadata": {
    "scrolled": true
   },
   "outputs": [],
   "source": [
    "def diff_mean_values(column, value_max, value_min):\n",
    "    '''\n",
    "    функция для вычисления разницы между средней величиной крайних значений исследуемого параметра\n",
    "    '''\n",
    "    mean_max = round(df.score[df[column] == value_max].mean(), 2)\n",
    "    mean_min = round(df.score[df[column] == value_min].mean(), 2)\n",
    "    diff_percent = round(((mean_max / mean_min - 1) * 100), 1)\n",
    "    return print(f'  Для {column}={value_max} оценки на {diff_percent}% лучше чем для {column}={value_min} \\\n",
    "    (mean: {mean_max} против {mean_min})')\n",
    "\n",
    "\n",
    "def diff_score0_counts(column):\n",
    "    '''\n",
    "    функция для вычисления разницы между двумя крайними значениями исследуемого параметра для группы 'score=0'\n",
    "    '''\n",
    "    df_score0 = pd.concat([df[column][df.score == 0].value_counts(), df[column].value_counts()], \n",
    "                          axis=1, keys=['score_0', 'df_all'])\n",
    "    df_score0['normalize_%'] = (df_score0.score_0 / df_score0.df_all) * 100\n",
    "    diff_perc = round(df_score0['normalize_%'].max() - df_score0['normalize_%'].min(), 1)\n",
    "    return print(df_score0.sort_index(), f'  Для группы score=0 разница кол-ва нулевых оценок составляет: {diff_perc}%', sep='\\n')\n",
    "    \n",
    "    \n",
    "results = dict()    # создадим словарь, куда в последствии будем вносить краткое резюме по каждому параметру."
   ]
  },
  {
   "cell_type": "markdown",
   "metadata": {
    "colab_type": "text",
    "id": "YxZaH-nPVp-L"
   },
   "source": [
    "# Сделаем проверку по каждому параметру на предмет наличия ошибок, выбросов и корреляции с ключевым параметром score"
   ]
  },
  {
   "cell_type": "markdown",
   "metadata": {},
   "source": [
    "#### Критерием для принятия промежуточного решения об включении исследуемых параметров в модель обозначим уровень значимости в 10%, тоесть минимум на такую величину должны отличатся средние оценки по двум крайним значениям одного параметра. Ключевым параметром для колличественных характеристик будем использовать среднее (mean) по оценкам по математике."
   ]
  },
  {
   "cell_type": "markdown",
   "metadata": {},
   "source": [
    "Начнем анализ с последнего и самого главного параметра - score, что бы далее было легче иследовать его корреляцию с остальными параметрами."
   ]
  },
  {
   "cell_type": "markdown",
   "metadata": {},
   "source": [
    "P.S. Далее по тексту, в подзаголовках анализа каждого параметра, запись формируется следующим образом:\n",
    "\"x name - описание\", где x - номер столбца, name - название столбца, и далее описание данного параметра."
   ]
  },
  {
   "cell_type": "markdown",
   "metadata": {},
   "source": [
    "### 30 score — баллы по госэкзамену по математике"
   ]
  },
  {
   "cell_type": "code",
   "execution_count": 7,
   "metadata": {
    "scrolled": false
   },
   "outputs": [
    {
     "data": {
      "text/plain": [
       "count    389.000000\n",
       "mean      52.262211\n",
       "std       22.919022\n",
       "min        0.000000\n",
       "25%       40.000000\n",
       "50%       55.000000\n",
       "75%       70.000000\n",
       "max      100.000000\n",
       "Name: score, dtype: float64"
      ]
     },
     "execution_count": 7,
     "metadata": {},
     "output_type": "execute_result"
    },
    {
     "data": {
      "image/png": "[encoded data removed]",
      "text/plain": [
       "<Figure size 432x288 with 1 Axes>"
      ]
     },
     "metadata": {},
     "output_type": "display_data"
    }
   ],
   "source": [
    "df.score.plot(kind='hist', title='score', bins=20)\n",
    "df.score.describe()"
   ]
  },
  {
   "cell_type": "code",
   "execution_count": 8,
   "metadata": {
    "scrolled": false
   },
   "outputs": [
    {
     "data": {
      "text/plain": [
       "0.0    37\n",
       "Name: score, dtype: int64"
      ]
     },
     "execution_count": 8,
     "metadata": {},
     "output_type": "execute_result"
    }
   ],
   "source": [
    "df.score[df.score == 0].value_counts()"
   ]
  },
  {
   "cell_type": "code",
   "execution_count": 9,
   "metadata": {
    "scrolled": true
   },
   "outputs": [
    {
     "data": {
      "text/plain": [
       "6"
      ]
     },
     "execution_count": 9,
     "metadata": {},
     "output_type": "execute_result"
    }
   ],
   "source": [
    "df.score.isnull().sum()"
   ]
  },
  {
   "cell_type": "markdown",
   "metadata": {},
   "source": [
    "Удалим из датафрейма строки с пустыми значениями в ключевом параметре - score (6 строк):"
   ]
  },
  {
   "cell_type": "code",
   "execution_count": 10,
   "metadata": {},
   "outputs": [],
   "source": [
    "df.drop(df[pd.isnull(df.score)].index, inplace=True)"
   ]
  },
  {
   "cell_type": "markdown",
   "metadata": {},
   "source": [
    "#### Основные наблюдения:\n",
    "    1) с левой стороны наблюдаем аномальный выброс: 37 оценок на \"0\" баллов по госэкзамену;\n",
    "    2) в диапазоне: [1, 19] - разрыв, нет ни одной оценки; \n",
    "    3) в диапазоне: [20, 100] - условно нормальное распределение со средним значением 52 балла."
   ]
  },
  {
   "cell_type": "markdown",
   "metadata": {},
   "source": [
    "#### По данному выбросу (37оценок - 0 баллов), можем сделать предположения:\n",
    "    1) возможно на экзамене не выставляются баллы, в случаи если их набрали меньше 20;\n",
    "    2) оценка в 0 баллов выставляется за отсутствие на экзамене по каким-либо причинам;\n",
    "    3) действительно 37 учеников не смогли набрать на экзамене ни одного балла.\n",
    "   \n",
    "#### Учитывая что существует два предположения в пользу того что бы эти оценки учитывать (№1 и №3) - оставим их для анализа в нашей модели."
   ]
  },
  {
   "cell_type": "markdown",
   "metadata": {},
   "source": [
    "#### Судя по характеру распределения оценок - в дальнейшем нам нужно будет сделать модель предсказывающую среднюю оценку и вероятность сдачи экзамена на 0. Соответственно будем рассматривать влияние всех параметров в двух ситуациях:\n",
    "\n",
    "    1) в целом по всем значениям (обозначим как df_all);\n",
    "    2) отдельно для группы набравшей 0 баллов (обозначим как score=0)."
   ]
  },
  {
   "cell_type": "markdown",
   "metadata": {},
   "source": [
    "В словарь с итоговым результатом анализа каждого параметра (results) будем делать две записи для кажого иследуемого параметра для групп: score=0 и df_all. Так же символьно будем указывать наличие значимой взаимосвязи исследуемого параметра с итоговой оценкой:\n",
    "\n",
    "    '+' - присутствует статистически-значимая зависимость (отличия более чем на 5%);\n",
    "    '0' - для параметров с низкой зависимостью (отличия менее чем на 5%)."
   ]
  },
  {
   "cell_type": "markdown",
   "metadata": {},
   "source": [
    "### 1 school — аббревиатура школы, в которой учится ученик"
   ]
  },
  {
   "cell_type": "markdown",
   "metadata": {},
   "source": [
    "#### 1. Построим боксплот для исследования зависимости оценок по математике от значений исследуемого параметра:"
   ]
  },
  {
   "cell_type": "code",
   "execution_count": 11,
   "metadata": {
    "scrolled": false
   },
   "outputs": [
    {
     "data": {
      "text/plain": [
       "GP    344\n",
       "MS     45\n",
       "Name: school, dtype: int64"
      ]
     },
     "execution_count": 11,
     "metadata": {},
     "output_type": "execute_result"
    },
    {
     "data": {
      "image/png": "[encoded data removed]",
      "text/plain": [
       "<Figure size 432x288 with 1 Axes>"
      ]
     },
     "metadata": {},
     "output_type": "display_data"
    }
   ],
   "source": [
    "sns.boxplot(x=\"school\", y=\"score\", data=df)\n",
    "df.school.value_counts()"
   ]
  },
  {
   "cell_type": "markdown",
   "metadata": {},
   "source": [
    "#### 2. Проверим статистическое отличие усредненных оценок для крайних случеев исследуемого параметра:"
   ]
  },
  {
   "cell_type": "code",
   "execution_count": 12,
   "metadata": {
    "scrolled": false
   },
   "outputs": [
    {
     "name": "stdout",
     "output_type": "stream",
     "text": [
      "  Для school=GP оценки на 6.5% лучше чем для school=MS     (mean: 52.63 против 49.44)\n"
     ]
    }
   ],
   "source": [
    "diff_mean_values('school', 'GP', 'MS')"
   ]
  },
  {
   "cell_type": "markdown",
   "metadata": {},
   "source": [
    "#### 3. Найдем разницу между двумя крайними значениями исследуемого параметра для группы 'score=0'"
   ]
  },
  {
   "cell_type": "code",
   "execution_count": 13,
   "metadata": {
    "scrolled": true
   },
   "outputs": [
    {
     "name": "stdout",
     "output_type": "stream",
     "text": [
      "    score_0  df_all  normalize_%\n",
      "GP       33     344     9.593023\n",
      "MS        4      45     8.888889\n",
      "  Для группы score=0 разница кол-ва нулевых оценок составляет: 0.7%\n"
     ]
    }
   ],
   "source": [
    "diff_score0_counts('school')"
   ]
  },
  {
   "cell_type": "markdown",
   "metadata": {},
   "source": [
    "#### 4. Сформулируем основные наблюдения:\n",
    "    1) Данные приведены всего по двум школам: GP и MS. Пустых полей и ошибок заполнения нет;\n",
    "    2) По группе df_all: по школе GP - оценки на 6.5% лучше чем по школе MS;\n",
    "    3) По группе score=0, отличие незначительное: 0.8%."
   ]
  },
  {
   "cell_type": "markdown",
   "metadata": {},
   "source": [
    "#### 5. Занесем результаты наблюдения в словарь:"
   ]
  },
  {
   "cell_type": "code",
   "execution_count": 14,
   "metadata": {},
   "outputs": [],
   "source": [
    "results['df_all school: 0'] = 'Для school=GP оценки на 6.5% лучше чем для school=MS'\n",
    "results['score=0 school: 0'] = 'Разница кол-ва нулевых оценок составляет: 0.8%'"
   ]
  },
  {
   "cell_type": "markdown",
   "metadata": {},
   "source": [
    "### 2 sex — пол ученика ('F' - женский, 'M' - мужской)"
   ]
  },
  {
   "cell_type": "code",
   "execution_count": 15,
   "metadata": {
    "scrolled": true
   },
   "outputs": [
    {
     "data": {
      "text/plain": [
       "F    204\n",
       "M    185\n",
       "Name: sex, dtype: int64"
      ]
     },
     "execution_count": 15,
     "metadata": {},
     "output_type": "execute_result"
    },
    {
     "data": {
      "image/png": "[encoded data removed]",
      "text/plain": [
       "<Figure size 432x288 with 1 Axes>"
      ]
     },
     "metadata": {},
     "output_type": "display_data"
    }
   ],
   "source": [
    "sns.boxplot(x=\"sex\", y=\"score\", data=df)\n",
    "df.sex.value_counts()"
   ]
  },
  {
   "cell_type": "code",
   "execution_count": 16,
   "metadata": {
    "scrolled": true
   },
   "outputs": [
    {
     "name": "stdout",
     "output_type": "stream",
     "text": [
      "  Для sex=M оценки на 9.1% лучше чем для sex=F     (mean: 54.65 против 50.1)\n"
     ]
    }
   ],
   "source": [
    "diff_mean_values('sex', 'M', 'F')"
   ]
  },
  {
   "cell_type": "code",
   "execution_count": 17,
   "metadata": {
    "scrolled": true
   },
   "outputs": [
    {
     "name": "stdout",
     "output_type": "stream",
     "text": [
      "   score_0  df_all  normalize_%\n",
      "F       22     204    10.784314\n",
      "M       15     185     8.108108\n",
      "  Для группы score=0 разница кол-ва нулевых оценок составляет: 2.7%\n"
     ]
    }
   ],
   "source": [
    "diff_score0_counts('sex')"
   ]
  },
  {
   "cell_type": "code",
   "execution_count": 18,
   "metadata": {},
   "outputs": [],
   "source": [
    "results['df_all sex: 0'] = 'Для sex=M оценки на 9.1% лучше чем для sex=F'\n",
    "results['score=0 sex: 0'] = 'Нулевых оценок по мужскому полу меньше, чем по женскому всего на 2.6%'"
   ]
  },
  {
   "cell_type": "markdown",
   "metadata": {},
   "source": [
    "### 3 age — возраст ученика (от 15 до 22)"
   ]
  },
  {
   "cell_type": "code",
   "execution_count": 19,
   "metadata": {},
   "outputs": [
    {
     "data": {
      "text/plain": [
       "count    389.000000\n",
       "mean      16.673522\n",
       "std        1.265662\n",
       "min       15.000000\n",
       "25%       16.000000\n",
       "50%       17.000000\n",
       "75%       18.000000\n",
       "max       22.000000\n",
       "Name: age, dtype: float64"
      ]
     },
     "execution_count": 19,
     "metadata": {},
     "output_type": "execute_result"
    },
    {
     "data": {
      "image/png": "[encoded data removed]",
      "text/plain": [
       "<Figure size 432x288 with 1 Axes>"
      ]
     },
     "metadata": {},
     "output_type": "display_data"
    }
   ],
   "source": [
    "df.age.hist(bins=8, range=(15, 23))\n",
    "df.age.describe()"
   ]
  },
  {
   "cell_type": "code",
   "execution_count": 20,
   "metadata": {},
   "outputs": [
    {
     "data": {
      "text/plain": [
       "<AxesSubplot:xlabel='age', ylabel='score'>"
      ]
     },
     "execution_count": 20,
     "metadata": {},
     "output_type": "execute_result"
    },
    {
     "data": {
      "image/png": "[encoded data removed]",
      "text/plain": [
       "<Figure size 432x288 with 1 Axes>"
      ]
     },
     "metadata": {},
     "output_type": "display_data"
    }
   ],
   "source": [
    "sns.boxplot(x=\"age\", y=\"score\", data=df)"
   ]
  },
  {
   "cell_type": "code",
   "execution_count": 21,
   "metadata": {
    "scrolled": false
   },
   "outputs": [
    {
     "name": "stdout",
     "output_type": "stream",
     "text": [
      "  Для age=15 оценки на 39.9% лучше чем для age=19     (mean: 56.28 против 40.24)\n"
     ]
    }
   ],
   "source": [
    "diff_mean_values('age', 15, 19)"
   ]
  },
  {
   "cell_type": "markdown",
   "metadata": {},
   "source": [
    "Если не учитывать данные по очень малочисленной возрасной группе в 20 лет (всего таких 3чел, <1%), то видим четко выраженную тенденцию по снижению всех основных статистических характеристик по всем возрастным группам. Так же учитывая очень малое кол-во данных что бы утверждать что возратная группа \"20 лет\" склонна выбиваться из тенденции остальных возрастных групп и сдавать экзамены лучше, удалим эти данные из датафрейма:"
   ]
  },
  {
   "cell_type": "code",
   "execution_count": 22,
   "metadata": {},
   "outputs": [],
   "source": [
    "df.age[df.age == 20] = None"
   ]
  },
  {
   "cell_type": "code",
   "execution_count": 23,
   "metadata": {
    "scrolled": false
   },
   "outputs": [
    {
     "name": "stdout",
     "output_type": "stream",
     "text": [
      "      score_0  df_all  normalize_%\n",
      "15.0      6.0      82     7.317073\n",
      "16.0      7.0     103     6.796117\n",
      "17.0      8.0      98     8.163265\n",
      "18.0     11.0      80    13.750000\n",
      "19.0      5.0      21    23.809524\n",
      "21.0      NaN       1          NaN\n",
      "22.0      NaN       1          NaN\n",
      "  Для группы score=0 разница кол-ва нулевых оценок составляет: 17.0%\n"
     ]
    }
   ],
   "source": [
    "diff_score0_counts('age')"
   ]
  },
  {
   "cell_type": "markdown",
   "metadata": {},
   "source": [
    "Видим выраженную тенденцию: с ростом возраста % учеников сдавших на \"0\" значительно возрастает (с 7% до 21%)."
   ]
  },
  {
   "cell_type": "code",
   "execution_count": 24,
   "metadata": {},
   "outputs": [],
   "source": [
    "results['df_all age: +'] = 'Для age=15 оценки на 39.9% лучше чем для age=19'\n",
    "results['score=0 age: +'] = 'Разница кол-ва нулевых оценок составляет: 14.1%'"
   ]
  },
  {
   "cell_type": "markdown",
   "metadata": {},
   "source": [
    "### 4 address — тип адреса ученика ('U' - городской, 'R' - за городом)"
   ]
  },
  {
   "cell_type": "code",
   "execution_count": 25,
   "metadata": {
    "scrolled": false
   },
   "outputs": [
    {
     "data": {
      "text/plain": [
       "U    291\n",
       "R     83\n",
       "Name: address, dtype: int64"
      ]
     },
     "execution_count": 25,
     "metadata": {},
     "output_type": "execute_result"
    },
    {
     "data": {
      "image/png": "[encoded data removed]",
      "text/plain": [
       "<Figure size 432x288 with 1 Axes>"
      ]
     },
     "metadata": {},
     "output_type": "display_data"
    }
   ],
   "source": [
    "sns.boxplot(x='address', y='score', data=df)\n",
    "df.address.value_counts()"
   ]
  },
  {
   "cell_type": "code",
   "execution_count": 26,
   "metadata": {
    "scrolled": false
   },
   "outputs": [
    {
     "name": "stdout",
     "output_type": "stream",
     "text": [
      "  Для address=U оценки на 14.1% лучше чем для address=R     (mean: 53.57 против 46.93)\n"
     ]
    }
   ],
   "source": [
    "diff_mean_values('address', 'U', 'R')"
   ]
  },
  {
   "cell_type": "code",
   "execution_count": 27,
   "metadata": {
    "scrolled": true
   },
   "outputs": [
    {
     "name": "stdout",
     "output_type": "stream",
     "text": [
      "   score_0  df_all  normalize_%\n",
      "R       10      83    12.048193\n",
      "U       26     291     8.934708\n",
      "  Для группы score=0 разница кол-ва нулевых оценок составляет: 3.1%\n"
     ]
    }
   ],
   "source": [
    "diff_score0_counts('address')"
   ]
  },
  {
   "cell_type": "code",
   "execution_count": 28,
   "metadata": {},
   "outputs": [],
   "source": [
    "results['df_all address: +'] = 'Для address=U оценки на 14.1% лучше чем для address=R'\n",
    "results['score=0 address: 0'] = 'Разница кол-ва нулевых оценок составляет: 3.2%'"
   ]
  },
  {
   "cell_type": "markdown",
   "metadata": {},
   "source": [
    "### 5 famsize — размер семьи('LE3' <= 3, 'GT3' >3)"
   ]
  },
  {
   "cell_type": "code",
   "execution_count": 29,
   "metadata": {
    "scrolled": true
   },
   "outputs": [
    {
     "data": {
      "text/plain": [
       "GT3    255\n",
       "LE3    107\n",
       "Name: famsize, dtype: int64"
      ]
     },
     "execution_count": 29,
     "metadata": {},
     "output_type": "execute_result"
    },
    {
     "data": {
      "image/png": "[encoded data removed]",
      "text/plain": [
       "<Figure size 432x288 with 1 Axes>"
      ]
     },
     "metadata": {},
     "output_type": "display_data"
    }
   ],
   "source": [
    "sns.boxplot(x='famsize', y='score', data=df)\n",
    "df.famsize.value_counts()"
   ]
  },
  {
   "cell_type": "code",
   "execution_count": 30,
   "metadata": {
    "scrolled": true
   },
   "outputs": [
    {
     "name": "stdout",
     "output_type": "stream",
     "text": [
      "  Для famsize=LE3 оценки на 6.1% лучше чем для famsize=GT3     (mean: 54.67 против 51.51)\n"
     ]
    }
   ],
   "source": [
    "diff_mean_values('famsize', 'LE3', 'GT3')"
   ]
  },
  {
   "cell_type": "code",
   "execution_count": 31,
   "metadata": {
    "scrolled": true
   },
   "outputs": [
    {
     "name": "stdout",
     "output_type": "stream",
     "text": [
      "     score_0  df_all  normalize_%\n",
      "GT3       27     255    10.588235\n",
      "LE3        7     107     6.542056\n",
      "  Для группы score=0 разница кол-ва нулевых оценок составляет: 4.0%\n"
     ]
    }
   ],
   "source": [
    "diff_score0_counts('famsize')"
   ]
  },
  {
   "cell_type": "code",
   "execution_count": 32,
   "metadata": {},
   "outputs": [],
   "source": [
    "results['df_all famsize: 0'] = 'Для famsize=LE3 оценки на 6.1% лучше чем для famsize=GT3'\n",
    "results['score=0 famsize: 0'] = 'Разница кол-ва нулевых оценок составляет: 3.8%'"
   ]
  },
  {
   "cell_type": "markdown",
   "metadata": {},
   "source": [
    "### 6 Pstatus — статус совместного жилья родителей ('T' - живут вместе 'A' - раздельно)"
   ]
  },
  {
   "cell_type": "code",
   "execution_count": 33,
   "metadata": {
    "scrolled": true
   },
   "outputs": [
    {
     "data": {
      "text/plain": [
       "T    308\n",
       "A     36\n",
       "Name: Pstatus, dtype: int64"
      ]
     },
     "execution_count": 33,
     "metadata": {},
     "output_type": "execute_result"
    },
    {
     "data": {
      "image/png": "[encoded data removed]",
      "text/plain": [
       "<Figure size 432x288 with 1 Axes>"
      ]
     },
     "metadata": {},
     "output_type": "display_data"
    }
   ],
   "source": [
    "sns.boxplot(x='Pstatus', y='score', data=df)\n",
    "df.Pstatus.value_counts()"
   ]
  },
  {
   "cell_type": "code",
   "execution_count": 34,
   "metadata": {
    "scrolled": false
   },
   "outputs": [
    {
     "name": "stdout",
     "output_type": "stream",
     "text": [
      "  Для Pstatus=A оценки на 6.7% лучше чем для Pstatus=T     (mean: 55.14 против 51.7)\n"
     ]
    }
   ],
   "source": [
    "diff_mean_values('Pstatus', 'A', 'T')"
   ]
  },
  {
   "cell_type": "code",
   "execution_count": 35,
   "metadata": {
    "scrolled": true
   },
   "outputs": [
    {
     "name": "stdout",
     "output_type": "stream",
     "text": [
      "   score_0  df_all  normalize_%\n",
      "A        2      36     5.555556\n",
      "T       31     308    10.064935\n",
      "  Для группы score=0 разница кол-ва нулевых оценок составляет: 4.5%\n"
     ]
    }
   ],
   "source": [
    "diff_score0_counts('Pstatus')"
   ]
  },
  {
   "cell_type": "code",
   "execution_count": 36,
   "metadata": {},
   "outputs": [],
   "source": [
    "results['df_all Pstatus: 0'] = 'Для Pstatus=A оценки на 6.7% лучше чем для Pstatus=T'\n",
    "results['score=0 Pstatus: 0'] = 'Разница кол-ва нулевых оценок составляет: 4.3%'"
   ]
  },
  {
   "cell_type": "markdown",
   "metadata": {},
   "source": [
    "### 7 Medu — образование матери (0 - нет, 1 - 4 класса, 2 - 5-9 классы, 3 - среднее специальное или 11 классов, 4 - высшее)"
   ]
  },
  {
   "cell_type": "code",
   "execution_count": 37,
   "metadata": {},
   "outputs": [
    {
     "data": {
      "text/plain": [
       "0.0      3\n",
       "1.0     56\n",
       "2.0    100\n",
       "3.0     96\n",
       "4.0    131\n",
       "Name: Medu, dtype: int64"
      ]
     },
     "execution_count": 37,
     "metadata": {},
     "output_type": "execute_result"
    },
    {
     "data": {
      "image/png": "[encoded data removed]",
      "text/plain": [
       "<Figure size 432x288 with 1 Axes>"
      ]
     },
     "metadata": {},
     "output_type": "display_data"
    }
   ],
   "source": [
    "sns.boxplot(x='Medu', y='score', data=df)\n",
    "df.Medu.value_counts().sort_index()"
   ]
  },
  {
   "cell_type": "markdown",
   "metadata": {},
   "source": [
    "По основным статистическим характеристикам прослеживается положительная взаимосвязь: чем выше уровень образование матери, - тем выше оценки по математике, за исключением малочисленной группы: Medu=0. Учитывая очень малое кол-во данных в этой группе (3чел, что <1% от всей выборки) и отсутствие логически-обоснованных оснований доверять такой тенденции, - удалим эти данные из датафрейма:"
   ]
  },
  {
   "cell_type": "code",
   "execution_count": 38,
   "metadata": {},
   "outputs": [],
   "source": [
    "df.Medu[df.Medu == 0] = None"
   ]
  },
  {
   "cell_type": "code",
   "execution_count": 39,
   "metadata": {
    "scrolled": false
   },
   "outputs": [
    {
     "name": "stdout",
     "output_type": "stream",
     "text": [
      "  Для Medu=4 оценки на 36.4% лучше чем для Medu=1     (mean: 58.82 против 43.12)\n"
     ]
    }
   ],
   "source": [
    "diff_mean_values('Medu', 4, 1)"
   ]
  },
  {
   "cell_type": "code",
   "execution_count": 40,
   "metadata": {
    "scrolled": true
   },
   "outputs": [
    {
     "name": "stdout",
     "output_type": "stream",
     "text": [
      "     score_0  df_all  normalize_%\n",
      "1.0        9      56    16.071429\n",
      "2.0       12     100    12.000000\n",
      "3.0        9      96     9.375000\n",
      "4.0        6     131     4.580153\n",
      "  Для группы score=0 разница кол-ва нулевых оценок составляет: 11.5%\n"
     ]
    }
   ],
   "source": [
    "diff_score0_counts('Medu')"
   ]
  },
  {
   "cell_type": "code",
   "execution_count": 41,
   "metadata": {},
   "outputs": [],
   "source": [
    "results['df_all Medu: +'] = 'Для Medu=4 оценки на 36.4% лучше чем для Medu=1'\n",
    "results['score=0 Medu: +'] = 'По Medu=4 кол-во нулевых оценок на 10.7% лучше чем по Medu=1'"
   ]
  },
  {
   "cell_type": "markdown",
   "metadata": {},
   "source": [
    "### 8 Fedu — образование отца (0 - нет, 1 - 4 класса, 2 - 5-9 классы, 3 - среднее специальное или 11 классов, 4 - высшее)"
   ]
  },
  {
   "cell_type": "code",
   "execution_count": 42,
   "metadata": {
    "scrolled": true
   },
   "outputs": [
    {
     "data": {
      "text/plain": [
       "0.0       2\n",
       "1.0      75\n",
       "2.0     105\n",
       "3.0      94\n",
       "4.0      88\n",
       "40.0      1\n",
       "Name: Fedu, dtype: int64"
      ]
     },
     "execution_count": 42,
     "metadata": {},
     "output_type": "execute_result"
    }
   ],
   "source": [
    "df.Fedu.value_counts().sort_index()"
   ]
  },
  {
   "cell_type": "markdown",
   "metadata": {},
   "source": [
    "Убирем ошибочное значение для параметра Fedu: '40'"
   ]
  },
  {
   "cell_type": "code",
   "execution_count": 43,
   "metadata": {},
   "outputs": [],
   "source": [
    "df.loc[df.Fedu > 4, 'Fedu'] = None"
   ]
  },
  {
   "cell_type": "code",
   "execution_count": 44,
   "metadata": {
    "scrolled": false
   },
   "outputs": [
    {
     "data": {
      "text/plain": [
       "<AxesSubplot:xlabel='Fedu', ylabel='score'>"
      ]
     },
     "execution_count": 44,
     "metadata": {},
     "output_type": "execute_result"
    },
    {
     "data": {
      "image/png": "[encoded data removed]",
      "text/plain": [
       "<Figure size 432x288 with 1 Axes>"
      ]
     },
     "metadata": {},
     "output_type": "display_data"
    }
   ],
   "source": [
    "sns.boxplot(x=\"Fedu\", y=\"score\", data=df)"
   ]
  },
  {
   "cell_type": "markdown",
   "metadata": {},
   "source": [
    "По основным статистическим характеристика прослеживается положительная взаимосвязь: чем выше уровень образование отца, - тем выше оценки по математике, за исключением малочисленной группы: Fedu=0 (2чел, <1% выборки). Учитывая очень малое кол-во данных в этой группе и отсутствие логически-обоснованных оснований доверять такой тенденции, - удалим эти данные из датафрейма:"
   ]
  },
  {
   "cell_type": "code",
   "execution_count": 45,
   "metadata": {},
   "outputs": [],
   "source": [
    "df.Fedu[df.Fedu == 0] = None"
   ]
  },
  {
   "cell_type": "code",
   "execution_count": 46,
   "metadata": {
    "scrolled": true
   },
   "outputs": [
    {
     "name": "stdout",
     "output_type": "stream",
     "text": [
      "  Для Fedu=4 оценки на 20.2% лучше чем для Fedu=1     (mean: 55.68 против 46.33)\n"
     ]
    }
   ],
   "source": [
    "diff_mean_values('Fedu', 4, 1)"
   ]
  },
  {
   "cell_type": "code",
   "execution_count": 47,
   "metadata": {
    "scrolled": false
   },
   "outputs": [
    {
     "name": "stdout",
     "output_type": "stream",
     "text": [
      "     score_0  df_all  normalize_%\n",
      "1.0       10      75    13.333333\n",
      "2.0       11     105    10.476190\n",
      "3.0        5      94     5.319149\n",
      "4.0        8      88     9.090909\n",
      "  Для группы score=0 разница кол-ва нулевых оценок составляет: 8.0%\n"
     ]
    }
   ],
   "source": [
    "diff_score0_counts('Fedu')"
   ]
  },
  {
   "cell_type": "code",
   "execution_count": 48,
   "metadata": {},
   "outputs": [],
   "source": [
    "results['df_all Fedu: +'] = 'Для Fedu=4 оценки на 20.2% лучше чем для Fedu=1'\n",
    "results['score=0 Fedu: 0'] = 'по Fedu=3 кол-во нулевых оценок на 7.6% лучше чем по Fedu=1'"
   ]
  },
  {
   "cell_type": "markdown",
   "metadata": {},
   "source": [
    "### 9 Mjob — работа матери ('teacher' - учитель, 'health' - сфера здравоохранения, 'services' - гос служба, 'at_home' - не работает, 'other' - другое)"
   ]
  },
  {
   "cell_type": "code",
   "execution_count": 49,
   "metadata": {
    "scrolled": false
   },
   "outputs": [
    {
     "data": {
      "text/plain": [
       "other       127\n",
       "services     98\n",
       "at_home      58\n",
       "teacher      55\n",
       "health       32\n",
       "Name: Mjob, dtype: int64"
      ]
     },
     "execution_count": 49,
     "metadata": {},
     "output_type": "execute_result"
    },
    {
     "data": {
      "image/png": "[encoded data removed]",
      "text/plain": [
       "<Figure size 432x288 with 1 Axes>"
      ]
     },
     "metadata": {},
     "output_type": "display_data"
    }
   ],
   "source": [
    "sns.boxplot(x='Mjob', y='score', data=df)\n",
    "df.Mjob.value_counts()"
   ]
  },
  {
   "cell_type": "code",
   "execution_count": 50,
   "metadata": {
    "scrolled": false
   },
   "outputs": [
    {
     "name": "stdout",
     "output_type": "stream",
     "text": [
      "  Для Mjob=health оценки на 32.7% лучше чем для Mjob=at_home     (mean: 60.62 против 45.69)\n"
     ]
    }
   ],
   "source": [
    "diff_mean_values('Mjob', 'health', 'at_home')"
   ]
  },
  {
   "cell_type": "code",
   "execution_count": 51,
   "metadata": {
    "scrolled": true
   },
   "outputs": [
    {
     "name": "stdout",
     "output_type": "stream",
     "text": [
      "          score_0  df_all  normalize_%\n",
      "at_home         9      58    15.517241\n",
      "health          2      32     6.250000\n",
      "other          12     127     9.448819\n",
      "services        8      98     8.163265\n",
      "teacher         4      55     7.272727\n",
      "  Для группы score=0 разница кол-ва нулевых оценок составляет: 9.3%\n"
     ]
    }
   ],
   "source": [
    "diff_score0_counts('Mjob')"
   ]
  },
  {
   "cell_type": "code",
   "execution_count": 52,
   "metadata": {},
   "outputs": [],
   "source": [
    "results['df_all Mjob: +'] = 'Для Mjob=health оценки на 32.7% лучше чем для Mjob=at_home'\n",
    "results['score=0 Mjob: 0'] = 'По Mjob=health кол-во нулевых оценок на 9% лучше чем по Mjob=at_home'"
   ]
  },
  {
   "cell_type": "markdown",
   "metadata": {},
   "source": [
    "### 10 Fjob — работа отца ('teacher' - учитель, 'health' - сфера здравоохранения, 'services' - гос служба, 'at_home' - не работает, 'other' - другое)"
   ]
  },
  {
   "cell_type": "code",
   "execution_count": 53,
   "metadata": {
    "scrolled": false
   },
   "outputs": [
    {
     "data": {
      "text/plain": [
       "other       194\n",
       "services     99\n",
       "teacher      29\n",
       "at_home      16\n",
       "health       15\n",
       "Name: Fjob, dtype: int64"
      ]
     },
     "execution_count": 53,
     "metadata": {},
     "output_type": "execute_result"
    },
    {
     "data": {
      "image/png": "[encoded data removed]",
      "text/plain": [
       "<Figure size 432x288 with 1 Axes>"
      ]
     },
     "metadata": {},
     "output_type": "display_data"
    }
   ],
   "source": [
    "sns.boxplot(x='Fjob', y='score', data=df)\n",
    "df.Fjob.value_counts()"
   ]
  },
  {
   "cell_type": "code",
   "execution_count": 54,
   "metadata": {
    "scrolled": true
   },
   "outputs": [
    {
     "name": "stdout",
     "output_type": "stream",
     "text": [
      "  Для Fjob=teacher оценки на 15.3% лучше чем для Fjob=at_home     (mean: 59.83 против 51.88)\n"
     ]
    }
   ],
   "source": [
    "diff_mean_values('Fjob', 'teacher', 'at_home')"
   ]
  },
  {
   "cell_type": "markdown",
   "metadata": {},
   "source": [
    "#### По колличественному критерию отбора (мин. 10% в разности средних оценок для крайних значений параметра) - данный параметр проходит, но учитывая низкую выборку (< 30 значений) для трех параметров из пяти (teacher, at_home, health) - не будем включать данный параметр в модель."
   ]
  },
  {
   "cell_type": "code",
   "execution_count": 55,
   "metadata": {
    "scrolled": true
   },
   "outputs": [
    {
     "name": "stdout",
     "output_type": "stream",
     "text": [
      "          score_0  df_all  normalize_%\n",
      "at_home       2.0      16    12.500000\n",
      "health        NaN      15          NaN\n",
      "other        18.0     194     9.278351\n",
      "services     10.0      99    10.101010\n",
      "teacher       3.0      29    10.344828\n",
      "  Для группы score=0 разница кол-ва нулевых оценок составляет: 3.2%\n"
     ]
    }
   ],
   "source": [
    "diff_score0_counts('Fjob')"
   ]
  },
  {
   "cell_type": "markdown",
   "metadata": {},
   "source": [
    "Видим, что для группы score=0 для параметра Fjob=health - отсутствуют нулевые оценки по математике, - что не очень хорошо для прогнозирующей модели."
   ]
  },
  {
   "cell_type": "markdown",
   "metadata": {},
   "source": [
    "#### При этом обратим внимание что для обоих параметров (Mjob и Fjob) при анализе группы сдавших экзамен на \"0\", видим одну и туже взаимосвязь:\n",
    "    - минимальный процент сдавших на \"0\" для группы health (Mjob-6% и Fjob-0%);\n",
    "    - максимальный процент сдавших на \"0\" для группы at_home (Mjob-15.5% и Fjob-12.5%);"
   ]
  },
  {
   "cell_type": "markdown",
   "metadata": {},
   "source": [
    "#### Учитывая, во первых, большую корреляцию данных между Mjob и Fjob (для группы score=0) и во вторых, отсутствие нулевых оценок по математике для параметра Fjob=health, - исключим парметр Fjob для группы score=0"
   ]
  },
  {
   "cell_type": "code",
   "execution_count": 56,
   "metadata": {},
   "outputs": [],
   "source": [
    "results['df_all Fjob: 0'] = 'Для Fjob=teacher оценки на 15.3% лучше чем для Fjob=at_home. Низкая выборка'\n",
    "results['score=0 Fjob: 0'] = 'Большая корреляция данных с Mjob'"
   ]
  },
  {
   "cell_type": "markdown",
   "metadata": {},
   "source": [
    "### 11 reason — причина выбора школы ('home' - близость к дому, 'reputation' - репутация школы, 'course' - образовательная программа, 'other' - другое)"
   ]
  },
  {
   "cell_type": "code",
   "execution_count": 57,
   "metadata": {
    "scrolled": false
   },
   "outputs": [
    {
     "data": {
      "text/plain": [
       "course        135\n",
       "reputation    102\n",
       "home          101\n",
       "other          34\n",
       "Name: reason, dtype: int64"
      ]
     },
     "execution_count": 57,
     "metadata": {},
     "output_type": "execute_result"
    },
    {
     "data": {
      "image/png": "[encoded data removed]",
      "text/plain": [
       "<Figure size 432x288 with 1 Axes>"
      ]
     },
     "metadata": {},
     "output_type": "display_data"
    }
   ],
   "source": [
    "sns.boxplot(x='reason', y='score', data=df)\n",
    "df.reason.value_counts()"
   ]
  },
  {
   "cell_type": "code",
   "execution_count": 58,
   "metadata": {
    "scrolled": true
   },
   "outputs": [
    {
     "name": "stdout",
     "output_type": "stream",
     "text": [
      "  Для reason=reputation оценки на 11.7% лучше чем для reason=course     (mean: 55.64 против 49.81)\n"
     ]
    }
   ],
   "source": [
    "diff_mean_values('reason', 'reputation', 'course')"
   ]
  },
  {
   "cell_type": "code",
   "execution_count": 59,
   "metadata": {
    "scrolled": false
   },
   "outputs": [
    {
     "name": "stdout",
     "output_type": "stream",
     "text": [
      "            score_0  df_all  normalize_%\n",
      "course           16     135    11.851852\n",
      "home             12     101    11.881188\n",
      "other             1      34     2.941176\n",
      "reputation        6     102     5.882353\n",
      "  Для группы score=0 разница кол-ва нулевых оценок составляет: 8.9%\n"
     ]
    }
   ],
   "source": [
    "diff_score0_counts('reason')"
   ]
  },
  {
   "cell_type": "code",
   "execution_count": 60,
   "metadata": {},
   "outputs": [],
   "source": [
    "results['df_all reason: +'] = 'Для reason=reputation оценки на 11.7% лучше чем для reason=course'\n",
    "results['score=0 reason: 0'] = 'По reason=other кол-во нулевых оценок на 8.7% лучше чем по reason=course'"
   ]
  },
  {
   "cell_type": "markdown",
   "metadata": {},
   "source": [
    "### 12 guardian — опекун ('mother' - мать, 'father' - отец, 'other' - другое)"
   ]
  },
  {
   "cell_type": "code",
   "execution_count": 61,
   "metadata": {
    "scrolled": false
   },
   "outputs": [
    {
     "data": {
      "text/plain": [
       "mother    248\n",
       "father     86\n",
       "other      24\n",
       "Name: guardian, dtype: int64"
      ]
     },
     "execution_count": 61,
     "metadata": {},
     "output_type": "execute_result"
    },
    {
     "data": {
      "image/png": "[encoded data removed]",
      "text/plain": [
       "<Figure size 432x288 with 1 Axes>"
      ]
     },
     "metadata": {},
     "output_type": "display_data"
    }
   ],
   "source": [
    "sns.boxplot(x='guardian', y='score', data=df)\n",
    "df.guardian.value_counts()"
   ]
  },
  {
   "cell_type": "code",
   "execution_count": 62,
   "metadata": {
    "scrolled": true
   },
   "outputs": [
    {
     "name": "stdout",
     "output_type": "stream",
     "text": [
      "  Для guardian=mother оценки на 15.3% лучше чем для guardian=other     (mean: 52.6 против 45.62)\n"
     ]
    }
   ],
   "source": [
    "diff_mean_values('guardian', 'mother', 'other')"
   ]
  },
  {
   "cell_type": "code",
   "execution_count": 63,
   "metadata": {
    "scrolled": true
   },
   "outputs": [
    {
     "name": "stdout",
     "output_type": "stream",
     "text": [
      "        score_0  df_all  normalize_%\n",
      "father        8      86     9.302326\n",
      "mother       23     248     9.274194\n",
      "other         4      24    16.666667\n",
      "  Для группы score=0 разница кол-ва нулевых оценок составляет: 7.4%\n"
     ]
    }
   ],
   "source": [
    "diff_score0_counts('guardian')"
   ]
  },
  {
   "cell_type": "code",
   "execution_count": 64,
   "metadata": {},
   "outputs": [],
   "source": [
    "results['df_all guardian: +'] = 'Для guardian=mother оценки на 15.3% лучше чем для guardian=other'\n",
    "results['score=0 guardian: 0'] = 'Для двух крайних значений разница кол-ва нулевых оценок составляет: 5.1%'"
   ]
  },
  {
   "cell_type": "markdown",
   "metadata": {},
   "source": [
    "### 13 traveltime — время в пути до школы (1 - <15 мин., 2 - 15-30 мин., 3 - 30-60 мин., 4 - >60 мин.)"
   ]
  },
  {
   "cell_type": "code",
   "execution_count": 65,
   "metadata": {
    "scrolled": false
   },
   "outputs": [
    {
     "data": {
      "text/plain": [
       "1.0    239\n",
       "2.0     94\n",
       "3.0     21\n",
       "4.0      7\n",
       "Name: traveltime, dtype: int64"
      ]
     },
     "execution_count": 65,
     "metadata": {},
     "output_type": "execute_result"
    },
    {
     "data": {
      "image/png": "[encoded data removed]",
      "text/plain": [
       "<Figure size 432x288 with 1 Axes>"
      ]
     },
     "metadata": {},
     "output_type": "display_data"
    }
   ],
   "source": [
    "sns.boxplot(x='traveltime', y='score', data=df)\n",
    "df.traveltime.value_counts()"
   ]
  },
  {
   "cell_type": "code",
   "execution_count": 66,
   "metadata": {
    "scrolled": false
   },
   "outputs": [
    {
     "name": "stdout",
     "output_type": "stream",
     "text": [
      "  Для traveltime=1 оценки на 7.2% лучше чем для traveltime=4     (mean: 53.58 против 50.0)\n"
     ]
    }
   ],
   "source": [
    "diff_mean_values('traveltime', 1, 4)"
   ]
  },
  {
   "cell_type": "code",
   "execution_count": 67,
   "metadata": {
    "scrolled": true
   },
   "outputs": [
    {
     "name": "stdout",
     "output_type": "stream",
     "text": [
      "     score_0  df_all  normalize_%\n",
      "1.0     20.0     239     8.368201\n",
      "2.0      8.0      94     8.510638\n",
      "3.0      4.0      21    19.047619\n",
      "4.0      NaN       7          NaN\n",
      "  Для группы score=0 разница кол-ва нулевых оценок составляет: 10.7%\n"
     ]
    }
   ],
   "source": [
    "diff_score0_counts('traveltime')"
   ]
  },
  {
   "cell_type": "markdown",
   "metadata": {},
   "source": [
    "Данные по группе score=0 для  traveltime не будем учитывать, т.к. traveltime=4 вносит не корректную тенденцию в модель."
   ]
  },
  {
   "cell_type": "code",
   "execution_count": 68,
   "metadata": {},
   "outputs": [],
   "source": [
    "results['df_all traveltime: 0'] = 'Для traveltime=1 оценки на 7.2% лучше чем для traveltime=4'\n",
    "results['score=0 traveltime: 0'] = 'Слишком не нормальное распределение нулевых оценок'"
   ]
  },
  {
   "cell_type": "markdown",
   "metadata": {},
   "source": [
    "### 14 studytime — время на учёбу помимо школы в неделю (1 - <2 часов, 2 - 2-5 часов, 3 - 5-10 часов, 4 - >10 часов)"
   ]
  },
  {
   "cell_type": "code",
   "execution_count": 69,
   "metadata": {},
   "outputs": [
    {
     "data": {
      "text/plain": [
       "2.0    189\n",
       "1.0    103\n",
       "3.0     63\n",
       "4.0     27\n",
       "Name: studytime, dtype: int64"
      ]
     },
     "execution_count": 69,
     "metadata": {},
     "output_type": "execute_result"
    },
    {
     "data": {
      "image/png": "[encoded data removed]",
      "text/plain": [
       "<Figure size 432x288 with 1 Axes>"
      ]
     },
     "metadata": {},
     "output_type": "display_data"
    }
   ],
   "source": [
    "sns.boxplot(x='studytime', y='score', data=df)\n",
    "df.studytime.value_counts()"
   ]
  },
  {
   "cell_type": "code",
   "execution_count": 70,
   "metadata": {
    "scrolled": true
   },
   "outputs": [
    {
     "name": "stdout",
     "output_type": "stream",
     "text": [
      "  Для studytime=4 оценки на 13.8% лучше чем для studytime=1     (mean: 56.3 против 49.47)\n"
     ]
    }
   ],
   "source": [
    "diff_mean_values('studytime', 4, 1)"
   ]
  },
  {
   "cell_type": "code",
   "execution_count": 71,
   "metadata": {
    "scrolled": true
   },
   "outputs": [
    {
     "name": "stdout",
     "output_type": "stream",
     "text": [
      "     score_0  df_all  normalize_%\n",
      "1.0       13     103    12.621359\n",
      "2.0       16     189     8.465608\n",
      "3.0        5      63     7.936508\n",
      "4.0        3      27    11.111111\n",
      "  Для группы score=0 разница кол-ва нулевых оценок составляет: 4.7%\n"
     ]
    }
   ],
   "source": [
    "diff_score0_counts('studytime')"
   ]
  },
  {
   "cell_type": "code",
   "execution_count": 72,
   "metadata": {},
   "outputs": [],
   "source": [
    "results['df_all studytime: +'] = 'Для studytime=4 оценки на 13.8% лучше чем для studytime=1'\n",
    "results['score=0 studytime: 0'] = 'Для двух крайних значений разница кол-ва нулевых оценок составляет: 4.8%'"
   ]
  },
  {
   "cell_type": "markdown",
   "metadata": {},
   "source": [
    "### 15 failures — количество внеучебных неудач (n, если 1<=n<=3, иначе 0)"
   ]
  },
  {
   "cell_type": "code",
   "execution_count": 73,
   "metadata": {
    "scrolled": false
   },
   "outputs": [
    {
     "data": {
      "text/plain": [
       "0.0    290\n",
       "1.0     48\n",
       "2.0     15\n",
       "3.0     14\n",
       "Name: failures, dtype: int64"
      ]
     },
     "execution_count": 73,
     "metadata": {},
     "output_type": "execute_result"
    },
    {
     "data": {
      "image/png": "[encoded data removed]",
      "text/plain": [
       "<Figure size 432x288 with 1 Axes>"
      ]
     },
     "metadata": {},
     "output_type": "display_data"
    }
   ],
   "source": [
    "sns.boxplot(x='failures', y='score', data=df)\n",
    "df.failures.value_counts()"
   ]
  },
  {
   "cell_type": "markdown",
   "metadata": {},
   "source": [
    "#### Учитывая низкую выборку для значений n = [2, 3] и существенное отличие между средними оценками для n=0 и n =[1, 2, 3] объеденим в одну группу значения [1, 2, 3]:"
   ]
  },
  {
   "cell_type": "code",
   "execution_count": 74,
   "metadata": {},
   "outputs": [],
   "source": [
    "df.failures[df.failures > 0] = 1"
   ]
  },
  {
   "cell_type": "code",
   "execution_count": 75,
   "metadata": {},
   "outputs": [
    {
     "data": {
      "text/plain": [
       "<AxesSubplot:xlabel='failures', ylabel='score'>"
      ]
     },
     "execution_count": 75,
     "metadata": {},
     "output_type": "execute_result"
    },
    {
     "data": {
      "image/png": "[encoded data removed]",
      "text/plain": [
       "<Figure size 432x288 with 1 Axes>"
      ]
     },
     "metadata": {},
     "output_type": "display_data"
    }
   ],
   "source": [
    "sns.boxplot(x='failures', y='score', data=df)"
   ]
  },
  {
   "cell_type": "code",
   "execution_count": 76,
   "metadata": {
    "scrolled": true
   },
   "outputs": [
    {
     "name": "stdout",
     "output_type": "stream",
     "text": [
      "  Для failures=0 оценки на 53.1% лучше чем для failures=1     (mean: 56.05 против 36.62)\n"
     ]
    }
   ],
   "source": [
    "diff_mean_values('failures', 0, 1)"
   ]
  },
  {
   "cell_type": "code",
   "execution_count": 77,
   "metadata": {
    "scrolled": true
   },
   "outputs": [
    {
     "name": "stdout",
     "output_type": "stream",
     "text": [
      "     score_0  df_all  normalize_%\n",
      "0.0       17     290     5.862069\n",
      "1.0       18      77    23.376623\n",
      "  Для группы score=0 разница кол-ва нулевых оценок составляет: 17.5%\n"
     ]
    }
   ],
   "source": [
    "diff_score0_counts('failures')"
   ]
  },
  {
   "cell_type": "code",
   "execution_count": 78,
   "metadata": {},
   "outputs": [],
   "source": [
    "results['df_all failures: +'] = 'Для failures=0 оценки на 53% лучше чем для failures=1'\n",
    "results['score=0 failures: +'] = 'Для двух крайних значений разница кол-ва нулевых оценок составляет: 16.7%'"
   ]
  },
  {
   "cell_type": "markdown",
   "metadata": {},
   "source": [
    "### 16 schoolsup — дополнительная образовательная поддержка (yes или no)"
   ]
  },
  {
   "cell_type": "code",
   "execution_count": 79,
   "metadata": {
    "scrolled": false
   },
   "outputs": [
    {
     "data": {
      "text/plain": [
       "no     331\n",
       "yes     49\n",
       "Name: schoolsup, dtype: int64"
      ]
     },
     "execution_count": 79,
     "metadata": {},
     "output_type": "execute_result"
    },
    {
     "data": {
      "image/png": "[encoded data removed]",
      "text/plain": [
       "<Figure size 432x288 with 1 Axes>"
      ]
     },
     "metadata": {},
     "output_type": "display_data"
    }
   ],
   "source": [
    "sns.boxplot(x='schoolsup', y='score', data=df)\n",
    "df.schoolsup.value_counts()"
   ]
  },
  {
   "cell_type": "code",
   "execution_count": 80,
   "metadata": {
    "scrolled": false
   },
   "outputs": [
    {
     "name": "stdout",
     "output_type": "stream",
     "text": [
      "  Для schoolsup=no оценки на 12.9% лучше чем для schoolsup=yes     (mean: 53.13 против 47.04)\n"
     ]
    }
   ],
   "source": [
    "diff_mean_values('schoolsup', 'no', 'yes')"
   ]
  },
  {
   "cell_type": "code",
   "execution_count": 81,
   "metadata": {
    "scrolled": true
   },
   "outputs": [
    {
     "name": "stdout",
     "output_type": "stream",
     "text": [
      "     score_0  df_all  normalize_%\n",
      "no        36     331    10.876133\n",
      "yes        1      49     2.040816\n",
      "  Для группы score=0 разница кол-ва нулевых оценок составляет: 8.8%\n"
     ]
    }
   ],
   "source": [
    "diff_score0_counts('schoolsup')"
   ]
  },
  {
   "cell_type": "code",
   "execution_count": 82,
   "metadata": {},
   "outputs": [],
   "source": [
    "results['df_all schoolsup: +'] = 'Для schoolsup=no оценки на 12.9% лучше чем для schoolsup=yes'\n",
    "results['score=0 schoolsup: 0'] = 'Для двух крайних значений разница кол-ва нулевых оценок составляет: 8.8%'"
   ]
  },
  {
   "cell_type": "markdown",
   "metadata": {},
   "source": [
    "### 17 famsup — семейная образовательная поддержка (yes или no)"
   ]
  },
  {
   "cell_type": "code",
   "execution_count": 83,
   "metadata": {
    "scrolled": true
   },
   "outputs": [
    {
     "data": {
      "text/plain": [
       "yes    216\n",
       "no     135\n",
       "Name: famsup, dtype: int64"
      ]
     },
     "execution_count": 83,
     "metadata": {},
     "output_type": "execute_result"
    },
    {
     "data": {
      "image/png": "[encoded data removed]",
      "text/plain": [
       "<Figure size 432x288 with 1 Axes>"
      ]
     },
     "metadata": {},
     "output_type": "display_data"
    }
   ],
   "source": [
    "sns.boxplot(x='famsup', y='score', data=df)\n",
    "df.famsup.value_counts()"
   ]
  },
  {
   "cell_type": "code",
   "execution_count": 84,
   "metadata": {
    "scrolled": false
   },
   "outputs": [
    {
     "name": "stdout",
     "output_type": "stream",
     "text": [
      "  Для famsup=no оценки на 0.7% лучше чем для famsup=yes     (mean: 52.07 против 51.71)\n"
     ]
    }
   ],
   "source": [
    "diff_mean_values('famsup', 'no', 'yes')"
   ]
  },
  {
   "cell_type": "code",
   "execution_count": 85,
   "metadata": {
    "scrolled": true
   },
   "outputs": [
    {
     "name": "stdout",
     "output_type": "stream",
     "text": [
      "     score_0  df_all  normalize_%\n",
      "no        15     135    11.111111\n",
      "yes       20     216     9.259259\n",
      "  Для группы score=0 разница кол-ва нулевых оценок составляет: 1.9%\n"
     ]
    }
   ],
   "source": [
    "diff_score0_counts('famsup')"
   ]
  },
  {
   "cell_type": "code",
   "execution_count": 86,
   "metadata": {},
   "outputs": [],
   "source": [
    "results['df_all famsup: 0'] = 'Для famsup=no оценки на 0.7% лучше чем для famsup=yes'\n",
    "results['score=0 famsup: 0'] = 'Для двух крайних значений разница кол-ва нулевых оценок составляет: 1.8%'"
   ]
  },
  {
   "cell_type": "markdown",
   "metadata": {},
   "source": [
    "### 18 paid — дополнительные платные занятия по математике (yes или no)"
   ]
  },
  {
   "cell_type": "code",
   "execution_count": 87,
   "metadata": {
    "scrolled": true
   },
   "outputs": [
    {
     "data": {
      "text/plain": [
       "no     197\n",
       "yes    153\n",
       "Name: paid, dtype: int64"
      ]
     },
     "execution_count": 87,
     "metadata": {},
     "output_type": "execute_result"
    },
    {
     "data": {
      "image/png": "[encoded data removed]",
      "text/plain": [
       "<Figure size 432x288 with 1 Axes>"
      ]
     },
     "metadata": {},
     "output_type": "display_data"
    }
   ],
   "source": [
    "sns.boxplot(x='paid', y='score', data=df)\n",
    "df.paid.value_counts()"
   ]
  },
  {
   "cell_type": "code",
   "execution_count": 88,
   "metadata": {
    "scrolled": false
   },
   "outputs": [
    {
     "name": "stdout",
     "output_type": "stream",
     "text": [
      "  Для paid=yes оценки на 9.2% лучше чем для paid=no     (mean: 55.0 против 50.36)\n"
     ]
    }
   ],
   "source": [
    "diff_mean_values('paid', 'yes', 'no')"
   ]
  },
  {
   "cell_type": "code",
   "execution_count": 89,
   "metadata": {
    "scrolled": true
   },
   "outputs": [
    {
     "name": "stdout",
     "output_type": "stream",
     "text": [
      "     score_0  df_all  normalize_%\n",
      "no        27     197    13.705584\n",
      "yes        7     153     4.575163\n",
      "  Для группы score=0 разница кол-ва нулевых оценок составляет: 9.1%\n"
     ]
    }
   ],
   "source": [
    "diff_score0_counts('paid')"
   ]
  },
  {
   "cell_type": "code",
   "execution_count": 90,
   "metadata": {},
   "outputs": [],
   "source": [
    "results['df_all paid: 0'] = 'Для paid=yes оценки на 9.2% лучше чем для paid=no'\n",
    "results['score=0 paid: 0'] = 'Для двух крайних значений разница кол-ва нулевых оценок составляет: 9.0%'"
   ]
  },
  {
   "cell_type": "markdown",
   "metadata": {},
   "source": [
    "### 19 activities — дополнительные внеучебные занятия (yes или no)"
   ]
  },
  {
   "cell_type": "code",
   "execution_count": 91,
   "metadata": {
    "scrolled": true
   },
   "outputs": [
    {
     "data": {
      "text/plain": [
       "yes    192\n",
       "no     183\n",
       "Name: activities, dtype: int64"
      ]
     },
     "execution_count": 91,
     "metadata": {},
     "output_type": "execute_result"
    },
    {
     "data": {
      "image/png": "[encoded data removed]",
      "text/plain": [
       "<Figure size 432x288 with 1 Axes>"
      ]
     },
     "metadata": {},
     "output_type": "display_data"
    }
   ],
   "source": [
    "sns.boxplot(x='activities', y='score', data=df)\n",
    "df.activities.value_counts()"
   ]
  },
  {
   "cell_type": "code",
   "execution_count": 92,
   "metadata": {
    "scrolled": false
   },
   "outputs": [
    {
     "name": "stdout",
     "output_type": "stream",
     "text": [
      "  Для activities=yes оценки на 0.9% лучше чем для activities=no     (mean: 52.68 против 52.19)\n"
     ]
    }
   ],
   "source": [
    "diff_mean_values('activities', 'yes', 'no')"
   ]
  },
  {
   "cell_type": "code",
   "execution_count": 93,
   "metadata": {
    "scrolled": true
   },
   "outputs": [
    {
     "name": "stdout",
     "output_type": "stream",
     "text": [
      "     score_0  df_all  normalize_%\n",
      "no        15     183     8.196721\n",
      "yes       20     192    10.416667\n",
      "  Для группы score=0 разница кол-ва нулевых оценок составляет: 2.2%\n"
     ]
    }
   ],
   "source": [
    "diff_score0_counts('activities')"
   ]
  },
  {
   "cell_type": "code",
   "execution_count": 94,
   "metadata": {},
   "outputs": [],
   "source": [
    "results['df_all activities: 0'] = 'Для activities=yes оценки на 0.9% лучше чем для activities=no'\n",
    "results['score=0 activities: 0'] = 'Для двух крайних значений разница кол-ва нулевых оценок составляет: 2.2%'"
   ]
  },
  {
   "cell_type": "markdown",
   "metadata": {},
   "source": [
    "### 20 nursery — посещал детский сад (yes или no)"
   ]
  },
  {
   "cell_type": "code",
   "execution_count": 95,
   "metadata": {
    "scrolled": true
   },
   "outputs": [
    {
     "data": {
      "text/plain": [
       "yes    297\n",
       "no      77\n",
       "Name: nursery, dtype: int64"
      ]
     },
     "execution_count": 95,
     "metadata": {},
     "output_type": "execute_result"
    },
    {
     "data": {
      "image/png": "[encoded data removed]",
      "text/plain": [
       "<Figure size 432x288 with 1 Axes>"
      ]
     },
     "metadata": {},
     "output_type": "display_data"
    }
   ],
   "source": [
    "sns.boxplot(x='nursery', y='score', data=df)\n",
    "df.nursery.value_counts()"
   ]
  },
  {
   "cell_type": "code",
   "execution_count": 96,
   "metadata": {
    "scrolled": false
   },
   "outputs": [
    {
     "name": "stdout",
     "output_type": "stream",
     "text": [
      "  Для nursery=yes оценки на 5.9% лучше чем для nursery=no     (mean: 52.96 против 50.0)\n"
     ]
    }
   ],
   "source": [
    "diff_mean_values('nursery', 'yes', 'no')"
   ]
  },
  {
   "cell_type": "code",
   "execution_count": 97,
   "metadata": {
    "scrolled": true
   },
   "outputs": [
    {
     "name": "stdout",
     "output_type": "stream",
     "text": [
      "     score_0  df_all  normalize_%\n",
      "no         9      77    11.688312\n",
      "yes       25     297     8.417508\n",
      "  Для группы score=0 разница кол-ва нулевых оценок составляет: 3.3%\n"
     ]
    }
   ],
   "source": [
    "diff_score0_counts('nursery')"
   ]
  },
  {
   "cell_type": "code",
   "execution_count": 98,
   "metadata": {},
   "outputs": [],
   "source": [
    "results['df_all nursery: 0'] = 'Для nursery=yes оценки на 5.9% лучше чем для nursery=no'\n",
    "results['score=0 nursery: 0'] = 'Для двух крайних значений разница кол-ва нулевых оценок составляет: 3.1%'"
   ]
  },
  {
   "cell_type": "markdown",
   "metadata": {},
   "source": [
    "### 21 studytime, granular"
   ]
  },
  {
   "cell_type": "markdown",
   "metadata": {},
   "source": [
    "Данный параметр не имеет описания. Применим к нему те же методы анализа как и к остальным параметрам."
   ]
  },
  {
   "cell_type": "code",
   "execution_count": 99,
   "metadata": {
    "scrolled": false
   },
   "outputs": [
    {
     "data": {
      "text/plain": [
       "-6.0     189\n",
       "-3.0     103\n",
       "-9.0      63\n",
       "-12.0     27\n",
       "Name: studytime, granular, dtype: int64"
      ]
     },
     "execution_count": 99,
     "metadata": {},
     "output_type": "execute_result"
    },
    {
     "data": {
      "image/png": "[encoded data removed]",
      "text/plain": [
       "<Figure size 432x288 with 1 Axes>"
      ]
     },
     "metadata": {},
     "output_type": "display_data"
    }
   ],
   "source": [
    "sns.boxplot(x='studytime, granular', y='score', data=df)\n",
    "df['studytime, granular'].value_counts()"
   ]
  },
  {
   "cell_type": "code",
   "execution_count": 100,
   "metadata": {
    "scrolled": false
   },
   "outputs": [
    {
     "name": "stdout",
     "output_type": "stream",
     "text": [
      "  Для studytime, granular=-12 оценки на 13.8% лучше чем для studytime, granular=-3     (mean: 56.3 против 49.47)\n"
     ]
    }
   ],
   "source": [
    "diff_mean_values('studytime, granular', -12, -3)"
   ]
  },
  {
   "cell_type": "code",
   "execution_count": 101,
   "metadata": {
    "scrolled": true
   },
   "outputs": [
    {
     "name": "stdout",
     "output_type": "stream",
     "text": [
      "       score_0  df_all  normalize_%\n",
      "-12.0        3      27    11.111111\n",
      "-9.0         5      63     7.936508\n",
      "-6.0        16     189     8.465608\n",
      "-3.0        13     103    12.621359\n",
      "  Для группы score=0 разница кол-ва нулевых оценок составляет: 4.7%\n"
     ]
    }
   ],
   "source": [
    "diff_score0_counts('studytime, granular')"
   ]
  },
  {
   "cell_type": "code",
   "execution_count": 102,
   "metadata": {},
   "outputs": [],
   "source": [
    "results['df_all studytime, granular: +'] = 'Для granular=-12 оценки на 13.8% лучше чем для granular=-3'\n",
    "results['score=0 studytime, granular: 0'] = 'Для двух крайних значений разница кол-ва нулевых оценок составляет: 4.8%'"
   ]
  },
  {
   "cell_type": "markdown",
   "metadata": {},
   "source": [
    "### 22 higher — хочет получить высшее образование (yes или no)"
   ]
  },
  {
   "cell_type": "code",
   "execution_count": 103,
   "metadata": {
    "scrolled": true
   },
   "outputs": [
    {
     "data": {
      "text/plain": [
       "yes    350\n",
       "no      19\n",
       "Name: higher, dtype: int64"
      ]
     },
     "execution_count": 103,
     "metadata": {},
     "output_type": "execute_result"
    },
    {
     "data": {
      "image/png": "[encoded data removed]",
      "text/plain": [
       "<Figure size 432x288 with 1 Axes>"
      ]
     },
     "metadata": {},
     "output_type": "display_data"
    }
   ],
   "source": [
    "sns.boxplot(x='higher', y='score', data=df)\n",
    "df.higher.value_counts()"
   ]
  },
  {
   "cell_type": "code",
   "execution_count": 104,
   "metadata": {
    "scrolled": true
   },
   "outputs": [
    {
     "name": "stdout",
     "output_type": "stream",
     "text": [
      "  Для higher=yes оценки на 57.7% лучше чем для higher=no     (mean: 53.1 против 33.68)\n"
     ]
    }
   ],
   "source": [
    "diff_mean_values('higher', 'yes', 'no')"
   ]
  },
  {
   "cell_type": "code",
   "execution_count": 105,
   "metadata": {
    "scrolled": true
   },
   "outputs": [
    {
     "name": "stdout",
     "output_type": "stream",
     "text": [
      "     score_0  df_all  normalize_%\n",
      "no         6      19    31.578947\n",
      "yes       30     350     8.571429\n",
      "  Для группы score=0 разница кол-ва нулевых оценок составляет: 23.0%\n"
     ]
    }
   ],
   "source": [
    "diff_score0_counts('higher')"
   ]
  },
  {
   "cell_type": "code",
   "execution_count": 106,
   "metadata": {},
   "outputs": [],
   "source": [
    "results['df_all higher: +'] = 'Для higher=yes оценки на 57.7% лучше чем для higher=no'\n",
    "results['score=0 higher: +'] = 'Для двух крайних значений разница кол-ва нулевых оценок составляет: 23.2%'"
   ]
  },
  {
   "cell_type": "markdown",
   "metadata": {},
   "source": [
    "### 23 internet — наличие интернета дома (yes или no)"
   ]
  },
  {
   "cell_type": "code",
   "execution_count": 107,
   "metadata": {
    "scrolled": true
   },
   "outputs": [
    {
     "data": {
      "text/plain": [
       "yes    300\n",
       "no      55\n",
       "Name: internet, dtype: int64"
      ]
     },
     "execution_count": 107,
     "metadata": {},
     "output_type": "execute_result"
    },
    {
     "data": {
      "image/png": "[encoded data removed]",
      "text/plain": [
       "<Figure size 432x288 with 1 Axes>"
      ]
     },
     "metadata": {},
     "output_type": "display_data"
    }
   ],
   "source": [
    "sns.boxplot(x='internet', y='score', data=df)\n",
    "df.internet.value_counts()"
   ]
  },
  {
   "cell_type": "code",
   "execution_count": 108,
   "metadata": {
    "scrolled": false
   },
   "outputs": [
    {
     "name": "stdout",
     "output_type": "stream",
     "text": [
      "  Для internet=yes оценки на 8.2% лучше чем для internet=no     (mean: 53.12 против 49.09)\n"
     ]
    }
   ],
   "source": [
    "diff_mean_values('internet', 'yes', 'no')"
   ]
  },
  {
   "cell_type": "code",
   "execution_count": 109,
   "metadata": {
    "scrolled": true
   },
   "outputs": [
    {
     "name": "stdout",
     "output_type": "stream",
     "text": [
      "     score_0  df_all  normalize_%\n",
      "no         6      55    10.909091\n",
      "yes       26     300     8.666667\n",
      "  Для группы score=0 разница кол-ва нулевых оценок составляет: 2.2%\n"
     ]
    }
   ],
   "source": [
    "diff_score0_counts('internet')"
   ]
  },
  {
   "cell_type": "code",
   "execution_count": 110,
   "metadata": {},
   "outputs": [],
   "source": [
    "results['df_all internet: 0'] = 'Для internet=yes оценки на 8.2% лучше чем для internet=no'\n",
    "results['score=0 internet: 0'] = 'Для двух крайних значений разница кол-ва нулевых оценок составляет: 2.2%'"
   ]
  },
  {
   "cell_type": "markdown",
   "metadata": {},
   "source": [
    "### 24 romantic — в романтических отношениях (yes или no)"
   ]
  },
  {
   "cell_type": "code",
   "execution_count": 111,
   "metadata": {
    "scrolled": false
   },
   "outputs": [
    {
     "data": {
      "text/plain": [
       "no     235\n",
       "yes    123\n",
       "Name: romantic, dtype: int64"
      ]
     },
     "execution_count": 111,
     "metadata": {},
     "output_type": "execute_result"
    },
    {
     "data": {
      "image/png": "[encoded data removed]",
      "text/plain": [
       "<Figure size 432x288 with 1 Axes>"
      ]
     },
     "metadata": {},
     "output_type": "display_data"
    }
   ],
   "source": [
    "sns.boxplot(x='romantic', y='score', data=df)\n",
    "df.romantic.value_counts()"
   ]
  },
  {
   "cell_type": "code",
   "execution_count": 112,
   "metadata": {
    "scrolled": false
   },
   "outputs": [
    {
     "name": "stdout",
     "output_type": "stream",
     "text": [
      "  Для romantic=no оценки на 14.5% лучше чем для romantic=yes     (mean: 54.57 против 47.68)\n"
     ]
    }
   ],
   "source": [
    "diff_mean_values('romantic', 'no', 'yes')"
   ]
  },
  {
   "cell_type": "code",
   "execution_count": 113,
   "metadata": {
    "scrolled": true
   },
   "outputs": [
    {
     "name": "stdout",
     "output_type": "stream",
     "text": [
      "     score_0  df_all  normalize_%\n",
      "no        16     235     6.808511\n",
      "yes       19     123    15.447154\n",
      "  Для группы score=0 разница кол-ва нулевых оценок составляет: 8.6%\n"
     ]
    }
   ],
   "source": [
    "diff_score0_counts('romantic')"
   ]
  },
  {
   "cell_type": "code",
   "execution_count": 114,
   "metadata": {},
   "outputs": [],
   "source": [
    "results['df_all romantic: +'] = 'Для romantic=no оценки на 14.5% лучше чем для romantic=yes'\n",
    "results['score=0 romantic: 0'] = 'Для двух крайних значений разница кол-ва нулевых оценок составляет: 8.7%'"
   ]
  },
  {
   "cell_type": "markdown",
   "metadata": {},
   "source": [
    "### 25 famrel — семейные отношения (от 1 - очень плохо до 5 - очень хорошо)"
   ]
  },
  {
   "cell_type": "code",
   "execution_count": 115,
   "metadata": {},
   "outputs": [
    {
     "data": {
      "text/plain": [
       "-1.0      1\n",
       " 1.0      7\n",
       " 2.0     17\n",
       " 3.0     62\n",
       " 4.0    178\n",
       " 5.0     97\n",
       "Name: famrel, dtype: int64"
      ]
     },
     "execution_count": 115,
     "metadata": {},
     "output_type": "execute_result"
    },
    {
     "data": {
      "image/png": "[encoded data removed]",
      "text/plain": [
       "<Figure size 432x288 with 1 Axes>"
      ]
     },
     "metadata": {},
     "output_type": "display_data"
    }
   ],
   "source": [
    "sns.boxplot(x='famrel', y='score', data=df)\n",
    "df.famrel.value_counts().sort_index()"
   ]
  },
  {
   "cell_type": "markdown",
   "metadata": {},
   "source": [
    "Убираем значение для параметра 'famrel' = '-1', - т.к. оно явно ошибочное и заменим значения 'famrel' = [1,2] на 'famrel'='3', т.к. они малочисленные."
   ]
  },
  {
   "cell_type": "code",
   "execution_count": 116,
   "metadata": {},
   "outputs": [],
   "source": [
    "df.loc[df.famrel < 1, 'famrel'] = None\n",
    "df.famrel[df.famrel < 3] = 3"
   ]
  },
  {
   "cell_type": "code",
   "execution_count": 117,
   "metadata": {},
   "outputs": [
    {
     "data": {
      "text/plain": [
       "3.0     86\n",
       "4.0    178\n",
       "5.0     97\n",
       "Name: famrel, dtype: int64"
      ]
     },
     "execution_count": 117,
     "metadata": {},
     "output_type": "execute_result"
    },
    {
     "data": {
      "image/png": "[encoded data removed]",
      "text/plain": [
       "<Figure size 432x288 with 1 Axes>"
      ]
     },
     "metadata": {},
     "output_type": "display_data"
    }
   ],
   "source": [
    "sns.boxplot(x='famrel', y='score', data=df)\n",
    "df.famrel.value_counts().sort_index()"
   ]
  },
  {
   "cell_type": "code",
   "execution_count": 118,
   "metadata": {
    "scrolled": false
   },
   "outputs": [
    {
     "name": "stdout",
     "output_type": "stream",
     "text": [
      "  Для famrel=5 оценки на 7.3% лучше чем для famrel=3     (mean: 54.9 против 51.16)\n"
     ]
    }
   ],
   "source": [
    "diff_mean_values('famrel', 5, 3)"
   ]
  },
  {
   "cell_type": "code",
   "execution_count": 119,
   "metadata": {
    "scrolled": true
   },
   "outputs": [
    {
     "name": "stdout",
     "output_type": "stream",
     "text": [
      "     score_0  df_all  normalize_%\n",
      "3.0       10      86    11.627907\n",
      "4.0       15     178     8.426966\n",
      "5.0        9      97     9.278351\n",
      "  Для группы score=0 разница кол-ва нулевых оценок составляет: 3.2%\n"
     ]
    }
   ],
   "source": [
    "diff_score0_counts('famrel')"
   ]
  },
  {
   "cell_type": "markdown",
   "metadata": {},
   "source": [
    "Для группы score=0 не будем использовать параметр famrel, т.к. по нему нет очень ненормальное распределение нулевых оценок и доверять таким данным нет оснований."
   ]
  },
  {
   "cell_type": "code",
   "execution_count": 120,
   "metadata": {},
   "outputs": [],
   "source": [
    "results['df_all famrel: 0'] = 'Для famrel=5 оценки на 13.1% лучше чем для famrel=1'\n",
    "results['score=0 famrel: 0'] = 'Очень ненормальное распределение нулевых оценок'"
   ]
  },
  {
   "cell_type": "markdown",
   "metadata": {},
   "source": [
    "### 26 freetime — свободное время после школы (от 1 - очень мало до 5 - очень мого)"
   ]
  },
  {
   "cell_type": "code",
   "execution_count": 121,
   "metadata": {
    "scrolled": false
   },
   "outputs": [
    {
     "data": {
      "text/plain": [
       "1.0     18\n",
       "2.0     63\n",
       "3.0    152\n",
       "4.0    110\n",
       "5.0     37\n",
       "Name: freetime, dtype: int64"
      ]
     },
     "execution_count": 121,
     "metadata": {},
     "output_type": "execute_result"
    },
    {
     "data": {
      "image/png": "[encoded data removed]",
      "text/plain": [
       "<Figure size 432x288 with 1 Axes>"
      ]
     },
     "metadata": {},
     "output_type": "display_data"
    }
   ],
   "source": [
    "sns.boxplot(x='freetime', y='score', data=df)\n",
    "df.freetime.value_counts().sort_index()"
   ]
  },
  {
   "cell_type": "code",
   "execution_count": 122,
   "metadata": {
    "scrolled": false
   },
   "outputs": [
    {
     "name": "stdout",
     "output_type": "stream",
     "text": [
      "  Для freetime=5 оценки на 15.1% лучше чем для freetime=3     (mean: 56.35 против 48.95)\n"
     ]
    }
   ],
   "source": [
    "diff_mean_values('freetime', 5, 3)"
   ]
  },
  {
   "cell_type": "code",
   "execution_count": 123,
   "metadata": {
    "scrolled": true
   },
   "outputs": [
    {
     "name": "stdout",
     "output_type": "stream",
     "text": [
      "     score_0  df_all  normalize_%\n",
      "1.0        2      18    11.111111\n",
      "2.0        4      63     6.349206\n",
      "3.0       20     152    13.157895\n",
      "4.0        8     110     7.272727\n",
      "5.0        2      37     5.405405\n",
      "  Для группы score=0 разница кол-ва нулевых оценок составляет: 7.8%\n"
     ]
    }
   ],
   "source": [
    "diff_score0_counts('freetime')"
   ]
  },
  {
   "cell_type": "code",
   "execution_count": 124,
   "metadata": {},
   "outputs": [],
   "source": [
    "results['df_all freetime: +'] = 'Для freetime=5 оценки на 15.1% лучше чем для freetime=3'\n",
    "results['score=0 freetime: 0'] = 'Для двух крайних значений разница кол-ва нулевых оценок составляет: 7.8%'"
   ]
  },
  {
   "cell_type": "markdown",
   "metadata": {},
   "source": [
    "### 27 goout — проведение времени с друзьями (от 1 - очень мало до 5 - очень много)"
   ]
  },
  {
   "cell_type": "code",
   "execution_count": 125,
   "metadata": {
    "scrolled": false
   },
   "outputs": [
    {
     "data": {
      "text/plain": [
       "1.0     23\n",
       "2.0    101\n",
       "3.0    126\n",
       "4.0     81\n",
       "5.0     51\n",
       "Name: goout, dtype: int64"
      ]
     },
     "execution_count": 125,
     "metadata": {},
     "output_type": "execute_result"
    },
    {
     "data": {
      "image/png": "[encoded data removed]",
      "text/plain": [
       "<Figure size 432x288 with 1 Axes>"
      ]
     },
     "metadata": {},
     "output_type": "display_data"
    }
   ],
   "source": [
    "sns.boxplot(x='goout', y='score', data=df)\n",
    "df.goout.value_counts().sort_index()"
   ]
  },
  {
   "cell_type": "code",
   "execution_count": 126,
   "metadata": {
    "scrolled": false
   },
   "outputs": [
    {
     "name": "stdout",
     "output_type": "stream",
     "text": [
      "  Для goout=1 оценки на 10.9% лучше чем для goout=5     (mean: 49.35 против 44.51)\n"
     ]
    }
   ],
   "source": [
    "diff_mean_values('goout', 1, 5)"
   ]
  },
  {
   "cell_type": "code",
   "execution_count": 127,
   "metadata": {
    "scrolled": true
   },
   "outputs": [
    {
     "name": "stdout",
     "output_type": "stream",
     "text": [
      "     score_0  df_all  normalize_%\n",
      "1.0        4      23    17.391304\n",
      "2.0        9     101     8.910891\n",
      "3.0        8     126     6.349206\n",
      "4.0        7      81     8.641975\n",
      "5.0        8      51    15.686275\n",
      "  Для группы score=0 разница кол-ва нулевых оценок составляет: 11.0%\n"
     ]
    }
   ],
   "source": [
    "diff_score0_counts('goout')"
   ]
  },
  {
   "cell_type": "code",
   "execution_count": 128,
   "metadata": {},
   "outputs": [],
   "source": [
    "results['df_all goout: +'] = 'Для goout=1 оценки на 16.5% лучше чем для goout=5'\n",
    "results['score=0 goout: +'] = 'Для двух крайних значений разница кол-ва нулевых оценок составляет: 11.1%'"
   ]
  },
  {
   "cell_type": "markdown",
   "metadata": {},
   "source": [
    "### 28 health — текущее состояние здоровья (от 1 - очень плохо до 5 - очень хорошо)"
   ]
  },
  {
   "cell_type": "code",
   "execution_count": 129,
   "metadata": {
    "scrolled": false
   },
   "outputs": [
    {
     "data": {
      "text/plain": [
       "1.0     47\n",
       "2.0     42\n",
       "3.0     88\n",
       "4.0     60\n",
       "5.0    137\n",
       "Name: health, dtype: int64"
      ]
     },
     "execution_count": 129,
     "metadata": {},
     "output_type": "execute_result"
    },
    {
     "data": {
      "image/png": "[encoded data removed]",
      "text/plain": [
       "<Figure size 432x288 with 1 Axes>"
      ]
     },
     "metadata": {},
     "output_type": "display_data"
    }
   ],
   "source": [
    "sns.boxplot(x='health', y='score', data=df)\n",
    "df.health.value_counts().sort_index()"
   ]
  },
  {
   "cell_type": "code",
   "execution_count": 130,
   "metadata": {
    "scrolled": false
   },
   "outputs": [
    {
     "name": "stdout",
     "output_type": "stream",
     "text": [
      "  Для health=1 оценки на 17.3% лучше чем для health=3     (mean: 59.36 против 50.62)\n"
     ]
    }
   ],
   "source": [
    "diff_mean_values('health', 1, 3)"
   ]
  },
  {
   "cell_type": "code",
   "execution_count": 131,
   "metadata": {
    "scrolled": false
   },
   "outputs": [
    {
     "name": "stdout",
     "output_type": "stream",
     "text": [
      "     score_0  df_all  normalize_%\n",
      "1.0        2      47     4.255319\n",
      "2.0        6      42    14.285714\n",
      "3.0        7      88     7.954545\n",
      "4.0        7      60    11.666667\n",
      "5.0       13     137     9.489051\n",
      "  Для группы score=0 разница кол-ва нулевых оценок составляет: 10.0%\n"
     ]
    }
   ],
   "source": [
    "diff_score0_counts('health')"
   ]
  },
  {
   "cell_type": "markdown",
   "metadata": {},
   "source": [
    "Такое распределение данных: максимумы нулевых оценок для health=[2, 4] и минимумы для health=[1, 3, 5] - не позволяет использовать эти данные в построении модели, т.к. доверять адекватности такому распределению оснований нет."
   ]
  },
  {
   "cell_type": "code",
   "execution_count": 132,
   "metadata": {},
   "outputs": [],
   "source": [
    "results['df_all health: +'] = 'Для health=1 оценки на 17.3% лучше чем для health=3'\n",
    "results['score=0 health: 0'] = 'Не адекватное распределение нулевх оценок по данному параметру'"
   ]
  },
  {
   "cell_type": "markdown",
   "metadata": {},
   "source": [
    "### 29 absences — количество пропущенных занятий"
   ]
  },
  {
   "cell_type": "code",
   "execution_count": 133,
   "metadata": {},
   "outputs": [
    {
     "data": {
      "text/plain": [
       "count    378.000000\n",
       "mean       7.320106\n",
       "std       23.615525\n",
       "min        0.000000\n",
       "25%        0.000000\n",
       "50%        4.000000\n",
       "75%        8.000000\n",
       "max      385.000000\n",
       "Name: absences, dtype: float64"
      ]
     },
     "execution_count": 133,
     "metadata": {},
     "output_type": "execute_result"
    }
   ],
   "source": [
    "df.absences.describe()"
   ]
  },
  {
   "cell_type": "code",
   "execution_count": 134,
   "metadata": {},
   "outputs": [
    {
     "data": {
      "text/plain": [
       "0.0      110\n",
       "1.0        3\n",
       "2.0       60\n",
       "3.0        7\n",
       "4.0       52\n",
       "5.0        5\n",
       "6.0       30\n",
       "7.0        6\n",
       "8.0       20\n",
       "9.0        3\n",
       "10.0      17\n",
       "11.0       2\n",
       "12.0      12\n",
       "13.0       2\n",
       "14.0      12\n",
       "15.0       2\n",
       "16.0       7\n",
       "17.0       1\n",
       "18.0       5\n",
       "19.0       1\n",
       "20.0       4\n",
       "21.0       1\n",
       "22.0       3\n",
       "23.0       1\n",
       "24.0       1\n",
       "25.0       1\n",
       "26.0       1\n",
       "28.0       1\n",
       "30.0       1\n",
       "38.0       1\n",
       "40.0       1\n",
       "54.0       1\n",
       "56.0       1\n",
       "75.0       1\n",
       "212.0      1\n",
       "385.0      1\n",
       "Name: absences, dtype: int64"
      ]
     },
     "execution_count": 134,
     "metadata": {},
     "output_type": "execute_result"
    }
   ],
   "source": [
    "df.absences.value_counts().sort_index()"
   ]
  },
  {
   "cell_type": "markdown",
   "metadata": {},
   "source": [
    "Обратим внимание, что кол-во нечетных пропусков занятий на порядок меньше чем четных. Для упрощение анализа данные по нечетным значениям пропусков занятий объеденим с четными. И устраним правый хвост выброса (q75% + 1.5*IQR = 8+1.5*8=20)."
   ]
  },
  {
   "cell_type": "code",
   "execution_count": 135,
   "metadata": {},
   "outputs": [],
   "source": [
    "df.absences[df.absences % 2 == 1] += 1\n",
    "df.absences[df.absences > 20] = None"
   ]
  },
  {
   "cell_type": "code",
   "execution_count": 136,
   "metadata": {},
   "outputs": [
    {
     "data": {
      "text/plain": [
       "0.0     110\n",
       "2.0      63\n",
       "4.0      59\n",
       "6.0      35\n",
       "8.0      26\n",
       "10.0     20\n",
       "12.0     14\n",
       "14.0     14\n",
       "16.0      9\n",
       "18.0      6\n",
       "20.0      5\n",
       "Name: absences, dtype: int64"
      ]
     },
     "execution_count": 136,
     "metadata": {},
     "output_type": "execute_result"
    }
   ],
   "source": [
    "df.absences.value_counts().sort_index()"
   ]
  },
  {
   "cell_type": "markdown",
   "metadata": {},
   "source": [
    "Таким образом мы сократили кол-во групп с 35 до 11, с минимальными потерями данных."
   ]
  },
  {
   "cell_type": "code",
   "execution_count": 137,
   "metadata": {
    "scrolled": true
   },
   "outputs": [
    {
     "data": {
      "text/plain": [
       "<AxesSubplot:xlabel='absences', ylabel='score'>"
      ]
     },
     "execution_count": 137,
     "metadata": {},
     "output_type": "execute_result"
    },
    {
     "data": {
      "image/png": "[encoded data removed]",
      "text/plain": [
       "<Figure size 432x288 with 1 Axes>"
      ]
     },
     "metadata": {},
     "output_type": "display_data"
    }
   ],
   "source": [
    "sns.boxplot(x='absences', y='score', data=df)"
   ]
  },
  {
   "cell_type": "code",
   "execution_count": 138,
   "metadata": {},
   "outputs": [
    {
     "data": {
      "text/plain": [
       "0.0    36\n",
       "Name: absences, dtype: int64"
      ]
     },
     "execution_count": 138,
     "metadata": {},
     "output_type": "execute_result"
    }
   ],
   "source": [
    "df.absences[df.score == 0].value_counts()"
   ]
  },
  {
   "cell_type": "markdown",
   "metadata": {},
   "source": [
    "Обратим внимание что все ученики набравшие на экзамене 0 баллов имеют почему-то 0 пропущенных занятий, что очень не логично. В связи с чем убирем эти данные из базы данных, так как они во первых занижают средний балл по категории absences=0, ну и во вторых, как уже писал выше, - не имеют логического обоснования. И еще уберем данные по категории absences=20, так как она очень малочисленна и имеет аномальный рост оценок."
   ]
  },
  {
   "cell_type": "code",
   "execution_count": 139,
   "metadata": {},
   "outputs": [],
   "source": [
    "df.absences[df.score == 0] = None\n",
    "df.absences[df.absences == 20] = None"
   ]
  },
  {
   "cell_type": "code",
   "execution_count": 140,
   "metadata": {},
   "outputs": [
    {
     "data": {
      "text/plain": [
       "<AxesSubplot:xlabel='absences', ylabel='score'>"
      ]
     },
     "execution_count": 140,
     "metadata": {},
     "output_type": "execute_result"
    },
    {
     "data": {
      "image/png": "[encoded data removed]",
      "text/plain": [
       "<Figure size 432x288 with 1 Axes>"
      ]
     },
     "metadata": {},
     "output_type": "display_data"
    }
   ],
   "source": [
    "sns.boxplot(x='absences', y='score', data=df)"
   ]
  },
  {
   "cell_type": "code",
   "execution_count": 141,
   "metadata": {
    "scrolled": false
   },
   "outputs": [
    {
     "name": "stdout",
     "output_type": "stream",
     "text": [
      "  Для absences=0 оценки на 45.3% лучше чем для absences=18     (mean: 62.97 против 43.33)\n"
     ]
    }
   ],
   "source": [
    "diff_mean_values('absences', 0, 18)"
   ]
  },
  {
   "cell_type": "code",
   "execution_count": 142,
   "metadata": {},
   "outputs": [],
   "source": [
    "results['df_all absences: +'] = 'Для absences=0 оценки на 44.9% лучше чем для absences=18'\n",
    "results['score=0 absences: 0'] = 'Все ученики сдавшие экзамен на 0 имели 0 прогулов, что не логично'"
   ]
  },
  {
   "cell_type": "markdown",
   "metadata": {},
   "source": [
    "# Проведем корреляционный анализ количественных переменных"
   ]
  },
  {
   "cell_type": "code",
   "execution_count": 143,
   "metadata": {
    "scrolled": false
   },
   "outputs": [
    {
     "data": {
      "text/html": [
       "<div>\n",
       "<style scoped>\n",
       "    .dataframe tbody tr th:only-of-type {\n",
       "        vertical-align: middle;\n",
       "    }\n",
       "\n",
       "    .dataframe tbody tr th {\n",
       "        vertical-align: top;\n",
       "    }\n",
       "\n",
       "    .dataframe thead th {\n",
       "        text-align: right;\n",
       "    }\n",
       "</style>\n",
       "<table border=\"1\" class=\"dataframe\">\n",
       "  <thead>\n",
       "    <tr style=\"text-align: right;\">\n",
       "      <th></th>\n",
       "      <th>age</th>\n",
       "      <th>Medu</th>\n",
       "      <th>Fedu</th>\n",
       "      <th>traveltime</th>\n",
       "      <th>studytime</th>\n",
       "      <th>failures</th>\n",
       "      <th>studytime, granular</th>\n",
       "      <th>famrel</th>\n",
       "      <th>freetime</th>\n",
       "      <th>goout</th>\n",
       "      <th>health</th>\n",
       "      <th>absences</th>\n",
       "      <th>score</th>\n",
       "    </tr>\n",
       "  </thead>\n",
       "  <tbody>\n",
       "    <tr>\n",
       "      <th>age</th>\n",
       "      <td>1.000000</td>\n",
       "      <td>-0.149255</td>\n",
       "      <td>-0.156606</td>\n",
       "      <td>0.078809</td>\n",
       "      <td>-0.017886</td>\n",
       "      <td>0.241958</td>\n",
       "      <td>0.017886</td>\n",
       "      <td>0.025126</td>\n",
       "      <td>-0.015185</td>\n",
       "      <td>0.120069</td>\n",
       "      <td>-0.077542</td>\n",
       "      <td>0.220803</td>\n",
       "      <td>-0.177261</td>\n",
       "    </tr>\n",
       "    <tr>\n",
       "      <th>Medu</th>\n",
       "      <td>-0.149255</td>\n",
       "      <td>1.000000</td>\n",
       "      <td>0.638822</td>\n",
       "      <td>-0.174283</td>\n",
       "      <td>0.082520</td>\n",
       "      <td>-0.241073</td>\n",
       "      <td>-0.082520</td>\n",
       "      <td>0.009930</td>\n",
       "      <td>0.041715</td>\n",
       "      <td>0.060215</td>\n",
       "      <td>-0.042729</td>\n",
       "      <td>0.045672</td>\n",
       "      <td>0.230728</td>\n",
       "    </tr>\n",
       "    <tr>\n",
       "      <th>Fedu</th>\n",
       "      <td>-0.156606</td>\n",
       "      <td>0.638822</td>\n",
       "      <td>1.000000</td>\n",
       "      <td>-0.133613</td>\n",
       "      <td>0.028795</td>\n",
       "      <td>-0.247521</td>\n",
       "      <td>-0.028795</td>\n",
       "      <td>-0.017645</td>\n",
       "      <td>-0.009069</td>\n",
       "      <td>0.048724</td>\n",
       "      <td>0.002923</td>\n",
       "      <td>-0.021416</td>\n",
       "      <td>0.139615</td>\n",
       "    </tr>\n",
       "    <tr>\n",
       "      <th>traveltime</th>\n",
       "      <td>0.078809</td>\n",
       "      <td>-0.174283</td>\n",
       "      <td>-0.133613</td>\n",
       "      <td>1.000000</td>\n",
       "      <td>-0.105910</td>\n",
       "      <td>0.043048</td>\n",
       "      <td>0.105910</td>\n",
       "      <td>-0.033211</td>\n",
       "      <td>-0.026299</td>\n",
       "      <td>0.032629</td>\n",
       "      <td>-0.011724</td>\n",
       "      <td>-0.082297</td>\n",
       "      <td>-0.070559</td>\n",
       "    </tr>\n",
       "    <tr>\n",
       "      <th>studytime</th>\n",
       "      <td>-0.017886</td>\n",
       "      <td>0.082520</td>\n",
       "      <td>0.028795</td>\n",
       "      <td>-0.105910</td>\n",
       "      <td>1.000000</td>\n",
       "      <td>-0.165019</td>\n",
       "      <td>-1.000000</td>\n",
       "      <td>0.049549</td>\n",
       "      <td>-0.125066</td>\n",
       "      <td>-0.053831</td>\n",
       "      <td>-0.079180</td>\n",
       "      <td>-0.071561</td>\n",
       "      <td>0.115741</td>\n",
       "    </tr>\n",
       "    <tr>\n",
       "      <th>failures</th>\n",
       "      <td>0.241958</td>\n",
       "      <td>-0.241073</td>\n",
       "      <td>-0.247521</td>\n",
       "      <td>0.043048</td>\n",
       "      <td>-0.165019</td>\n",
       "      <td>1.000000</td>\n",
       "      <td>0.165019</td>\n",
       "      <td>0.001781</td>\n",
       "      <td>0.076387</td>\n",
       "      <td>0.093948</td>\n",
       "      <td>0.120187</td>\n",
       "      <td>0.213229</td>\n",
       "      <td>-0.346450</td>\n",
       "    </tr>\n",
       "    <tr>\n",
       "      <th>studytime, granular</th>\n",
       "      <td>0.017886</td>\n",
       "      <td>-0.082520</td>\n",
       "      <td>-0.028795</td>\n",
       "      <td>0.105910</td>\n",
       "      <td>-1.000000</td>\n",
       "      <td>0.165019</td>\n",
       "      <td>1.000000</td>\n",
       "      <td>-0.049549</td>\n",
       "      <td>0.125066</td>\n",
       "      <td>0.053831</td>\n",
       "      <td>0.079180</td>\n",
       "      <td>0.071561</td>\n",
       "      <td>-0.115741</td>\n",
       "    </tr>\n",
       "    <tr>\n",
       "      <th>famrel</th>\n",
       "      <td>0.025126</td>\n",
       "      <td>0.009930</td>\n",
       "      <td>-0.017645</td>\n",
       "      <td>-0.033211</td>\n",
       "      <td>0.049549</td>\n",
       "      <td>0.001781</td>\n",
       "      <td>-0.049549</td>\n",
       "      <td>1.000000</td>\n",
       "      <td>0.160871</td>\n",
       "      <td>0.074123</td>\n",
       "      <td>0.068951</td>\n",
       "      <td>-0.056152</td>\n",
       "      <td>0.059562</td>\n",
       "    </tr>\n",
       "    <tr>\n",
       "      <th>freetime</th>\n",
       "      <td>-0.015185</td>\n",
       "      <td>0.041715</td>\n",
       "      <td>-0.009069</td>\n",
       "      <td>-0.026299</td>\n",
       "      <td>-0.125066</td>\n",
       "      <td>0.076387</td>\n",
       "      <td>0.125066</td>\n",
       "      <td>0.160871</td>\n",
       "      <td>1.000000</td>\n",
       "      <td>0.296338</td>\n",
       "      <td>0.064315</td>\n",
       "      <td>0.080314</td>\n",
       "      <td>0.019026</td>\n",
       "    </tr>\n",
       "    <tr>\n",
       "      <th>goout</th>\n",
       "      <td>0.120069</td>\n",
       "      <td>0.060215</td>\n",
       "      <td>0.048724</td>\n",
       "      <td>0.032629</td>\n",
       "      <td>-0.053831</td>\n",
       "      <td>0.093948</td>\n",
       "      <td>0.053831</td>\n",
       "      <td>0.074123</td>\n",
       "      <td>0.296338</td>\n",
       "      <td>1.000000</td>\n",
       "      <td>-0.018026</td>\n",
       "      <td>0.148496</td>\n",
       "      <td>-0.129685</td>\n",
       "    </tr>\n",
       "    <tr>\n",
       "      <th>health</th>\n",
       "      <td>-0.077542</td>\n",
       "      <td>-0.042729</td>\n",
       "      <td>0.002923</td>\n",
       "      <td>-0.011724</td>\n",
       "      <td>-0.079180</td>\n",
       "      <td>0.120187</td>\n",
       "      <td>0.079180</td>\n",
       "      <td>0.068951</td>\n",
       "      <td>0.064315</td>\n",
       "      <td>-0.018026</td>\n",
       "      <td>1.000000</td>\n",
       "      <td>-0.011059</td>\n",
       "      <td>-0.070460</td>\n",
       "    </tr>\n",
       "    <tr>\n",
       "      <th>absences</th>\n",
       "      <td>0.220803</td>\n",
       "      <td>0.045672</td>\n",
       "      <td>-0.021416</td>\n",
       "      <td>-0.082297</td>\n",
       "      <td>-0.071561</td>\n",
       "      <td>0.213229</td>\n",
       "      <td>0.071561</td>\n",
       "      <td>-0.056152</td>\n",
       "      <td>0.080314</td>\n",
       "      <td>0.148496</td>\n",
       "      <td>-0.011059</td>\n",
       "      <td>1.000000</td>\n",
       "      <td>-0.251672</td>\n",
       "    </tr>\n",
       "    <tr>\n",
       "      <th>score</th>\n",
       "      <td>-0.177261</td>\n",
       "      <td>0.230728</td>\n",
       "      <td>0.139615</td>\n",
       "      <td>-0.070559</td>\n",
       "      <td>0.115741</td>\n",
       "      <td>-0.346450</td>\n",
       "      <td>-0.115741</td>\n",
       "      <td>0.059562</td>\n",
       "      <td>0.019026</td>\n",
       "      <td>-0.129685</td>\n",
       "      <td>-0.070460</td>\n",
       "      <td>-0.251672</td>\n",
       "      <td>1.000000</td>\n",
       "    </tr>\n",
       "  </tbody>\n",
       "</table>\n",
       "</div>"
      ],
      "text/plain": [
       "                          age      Medu      Fedu  traveltime  studytime  \\\n",
       "age                  1.000000 -0.149255 -0.156606    0.078809  -0.017886   \n",
       "Medu                -0.149255  1.000000  0.638822   -0.174283   0.082520   \n",
       "Fedu                -0.156606  0.638822  1.000000   -0.133613   0.028795   \n",
       "traveltime           0.078809 -0.174283 -0.133613    1.000000  -0.105910   \n",
       "studytime           -0.017886  0.082520  0.028795   -0.105910   1.000000   \n",
       "failures             0.241958 -0.241073 -0.247521    0.043048  -0.165019   \n",
       "studytime, granular  0.017886 -0.082520 -0.028795    0.105910  -1.000000   \n",
       "famrel               0.025126  0.009930 -0.017645   -0.033211   0.049549   \n",
       "freetime            -0.015185  0.041715 -0.009069   -0.026299  -0.125066   \n",
       "goout                0.120069  0.060215  0.048724    0.032629  -0.053831   \n",
       "health              -0.077542 -0.042729  0.002923   -0.011724  -0.079180   \n",
       "absences             0.220803  0.045672 -0.021416   -0.082297  -0.071561   \n",
       "score               -0.177261  0.230728  0.139615   -0.070559   0.115741   \n",
       "\n",
       "                     failures  studytime, granular    famrel  freetime  \\\n",
       "age                  0.241958             0.017886  0.025126 -0.015185   \n",
       "Medu                -0.241073            -0.082520  0.009930  0.041715   \n",
       "Fedu                -0.247521            -0.028795 -0.017645 -0.009069   \n",
       "traveltime           0.043048             0.105910 -0.033211 -0.026299   \n",
       "studytime           -0.165019            -1.000000  0.049549 -0.125066   \n",
       "failures             1.000000             0.165019  0.001781  0.076387   \n",
       "studytime, granular  0.165019             1.000000 -0.049549  0.125066   \n",
       "famrel               0.001781            -0.049549  1.000000  0.160871   \n",
       "freetime             0.076387             0.125066  0.160871  1.000000   \n",
       "goout                0.093948             0.053831  0.074123  0.296338   \n",
       "health               0.120187             0.079180  0.068951  0.064315   \n",
       "absences             0.213229             0.071561 -0.056152  0.080314   \n",
       "score               -0.346450            -0.115741  0.059562  0.019026   \n",
       "\n",
       "                        goout    health  absences     score  \n",
       "age                  0.120069 -0.077542  0.220803 -0.177261  \n",
       "Medu                 0.060215 -0.042729  0.045672  0.230728  \n",
       "Fedu                 0.048724  0.002923 -0.021416  0.139615  \n",
       "traveltime           0.032629 -0.011724 -0.082297 -0.070559  \n",
       "studytime           -0.053831 -0.079180 -0.071561  0.115741  \n",
       "failures             0.093948  0.120187  0.213229 -0.346450  \n",
       "studytime, granular  0.053831  0.079180  0.071561 -0.115741  \n",
       "famrel               0.074123  0.068951 -0.056152  0.059562  \n",
       "freetime             0.296338  0.064315  0.080314  0.019026  \n",
       "goout                1.000000 -0.018026  0.148496 -0.129685  \n",
       "health              -0.018026  1.000000 -0.011059 -0.070460  \n",
       "absences             0.148496 -0.011059  1.000000 -0.251672  \n",
       "score               -0.129685 -0.070460 -0.251672  1.000000  "
      ]
     },
     "execution_count": 143,
     "metadata": {},
     "output_type": "execute_result"
    }
   ],
   "source": [
    "df.corr()"
   ]
  },
  {
   "cell_type": "markdown",
   "metadata": {},
   "source": [
    "Видим полную обратную корреляцию между параметрами 'studytime, granular' и 'studytime', следовательно никакой новой информации второй из этих параметров не несет. Соответственно исключим один параметр из анализа (да и из данных его тоже можно исключить."
   ]
  },
  {
   "cell_type": "code",
   "execution_count": 144,
   "metadata": {},
   "outputs": [],
   "source": [
    "df.drop(['studytime, granular'], axis=1, inplace=True)\n",
    "del results['df_all studytime, granular: +']\n",
    "del results['score=0 studytime, granular: 0']"
   ]
  },
  {
   "cell_type": "markdown",
   "metadata": {},
   "source": [
    "Посмотрим еще на корреляцию параметров для группы score=0:"
   ]
  },
  {
   "cell_type": "code",
   "execution_count": 145,
   "metadata": {},
   "outputs": [
    {
     "data": {
      "text/html": [
       "<div>\n",
       "<style scoped>\n",
       "    .dataframe tbody tr th:only-of-type {\n",
       "        vertical-align: middle;\n",
       "    }\n",
       "\n",
       "    .dataframe tbody tr th {\n",
       "        vertical-align: top;\n",
       "    }\n",
       "\n",
       "    .dataframe thead th {\n",
       "        text-align: right;\n",
       "    }\n",
       "</style>\n",
       "<table border=\"1\" class=\"dataframe\">\n",
       "  <thead>\n",
       "    <tr style=\"text-align: right;\">\n",
       "      <th></th>\n",
       "      <th>age</th>\n",
       "      <th>Medu</th>\n",
       "      <th>Fedu</th>\n",
       "      <th>traveltime</th>\n",
       "      <th>studytime</th>\n",
       "      <th>failures</th>\n",
       "      <th>famrel</th>\n",
       "      <th>freetime</th>\n",
       "      <th>goout</th>\n",
       "      <th>health</th>\n",
       "      <th>absences</th>\n",
       "      <th>score</th>\n",
       "    </tr>\n",
       "  </thead>\n",
       "  <tbody>\n",
       "    <tr>\n",
       "      <th>age</th>\n",
       "      <td>1.000000</td>\n",
       "      <td>-0.277001</td>\n",
       "      <td>-0.308023</td>\n",
       "      <td>-0.173553</td>\n",
       "      <td>-0.043985</td>\n",
       "      <td>0.156184</td>\n",
       "      <td>0.060089</td>\n",
       "      <td>0.189722</td>\n",
       "      <td>0.090751</td>\n",
       "      <td>-0.224359</td>\n",
       "      <td>NaN</td>\n",
       "      <td>NaN</td>\n",
       "    </tr>\n",
       "    <tr>\n",
       "      <th>Medu</th>\n",
       "      <td>-0.277001</td>\n",
       "      <td>1.000000</td>\n",
       "      <td>0.763420</td>\n",
       "      <td>-0.139369</td>\n",
       "      <td>0.138471</td>\n",
       "      <td>-0.450749</td>\n",
       "      <td>-0.093115</td>\n",
       "      <td>0.178854</td>\n",
       "      <td>0.024078</td>\n",
       "      <td>-0.104942</td>\n",
       "      <td>NaN</td>\n",
       "      <td>NaN</td>\n",
       "    </tr>\n",
       "    <tr>\n",
       "      <th>Fedu</th>\n",
       "      <td>-0.308023</td>\n",
       "      <td>0.763420</td>\n",
       "      <td>1.000000</td>\n",
       "      <td>0.013349</td>\n",
       "      <td>0.243154</td>\n",
       "      <td>-0.305674</td>\n",
       "      <td>-0.113557</td>\n",
       "      <td>0.108777</td>\n",
       "      <td>0.126071</td>\n",
       "      <td>0.040732</td>\n",
       "      <td>NaN</td>\n",
       "      <td>NaN</td>\n",
       "    </tr>\n",
       "    <tr>\n",
       "      <th>traveltime</th>\n",
       "      <td>-0.173553</td>\n",
       "      <td>-0.139369</td>\n",
       "      <td>0.013349</td>\n",
       "      <td>1.000000</td>\n",
       "      <td>-0.141737</td>\n",
       "      <td>-0.152913</td>\n",
       "      <td>-0.035283</td>\n",
       "      <td>-0.067848</td>\n",
       "      <td>0.046303</td>\n",
       "      <td>-0.144564</td>\n",
       "      <td>NaN</td>\n",
       "      <td>NaN</td>\n",
       "    </tr>\n",
       "    <tr>\n",
       "      <th>studytime</th>\n",
       "      <td>-0.043985</td>\n",
       "      <td>0.138471</td>\n",
       "      <td>0.243154</td>\n",
       "      <td>-0.141737</td>\n",
       "      <td>1.000000</td>\n",
       "      <td>-0.319569</td>\n",
       "      <td>-0.086567</td>\n",
       "      <td>-0.102243</td>\n",
       "      <td>-0.223221</td>\n",
       "      <td>-0.000755</td>\n",
       "      <td>NaN</td>\n",
       "      <td>NaN</td>\n",
       "    </tr>\n",
       "    <tr>\n",
       "      <th>failures</th>\n",
       "      <td>0.156184</td>\n",
       "      <td>-0.450749</td>\n",
       "      <td>-0.305674</td>\n",
       "      <td>-0.152913</td>\n",
       "      <td>-0.319569</td>\n",
       "      <td>1.000000</td>\n",
       "      <td>-0.083497</td>\n",
       "      <td>-0.037953</td>\n",
       "      <td>-0.201397</td>\n",
       "      <td>0.198840</td>\n",
       "      <td>NaN</td>\n",
       "      <td>NaN</td>\n",
       "    </tr>\n",
       "    <tr>\n",
       "      <th>famrel</th>\n",
       "      <td>0.060089</td>\n",
       "      <td>-0.093115</td>\n",
       "      <td>-0.113557</td>\n",
       "      <td>-0.035283</td>\n",
       "      <td>-0.086567</td>\n",
       "      <td>-0.083497</td>\n",
       "      <td>1.000000</td>\n",
       "      <td>0.137271</td>\n",
       "      <td>0.279452</td>\n",
       "      <td>-0.065689</td>\n",
       "      <td>NaN</td>\n",
       "      <td>NaN</td>\n",
       "    </tr>\n",
       "    <tr>\n",
       "      <th>freetime</th>\n",
       "      <td>0.189722</td>\n",
       "      <td>0.178854</td>\n",
       "      <td>0.108777</td>\n",
       "      <td>-0.067848</td>\n",
       "      <td>-0.102243</td>\n",
       "      <td>-0.037953</td>\n",
       "      <td>0.137271</td>\n",
       "      <td>1.000000</td>\n",
       "      <td>0.319699</td>\n",
       "      <td>-0.017763</td>\n",
       "      <td>NaN</td>\n",
       "      <td>NaN</td>\n",
       "    </tr>\n",
       "    <tr>\n",
       "      <th>goout</th>\n",
       "      <td>0.090751</td>\n",
       "      <td>0.024078</td>\n",
       "      <td>0.126071</td>\n",
       "      <td>0.046303</td>\n",
       "      <td>-0.223221</td>\n",
       "      <td>-0.201397</td>\n",
       "      <td>0.279452</td>\n",
       "      <td>0.319699</td>\n",
       "      <td>1.000000</td>\n",
       "      <td>-0.093742</td>\n",
       "      <td>NaN</td>\n",
       "      <td>NaN</td>\n",
       "    </tr>\n",
       "    <tr>\n",
       "      <th>health</th>\n",
       "      <td>-0.224359</td>\n",
       "      <td>-0.104942</td>\n",
       "      <td>0.040732</td>\n",
       "      <td>-0.144564</td>\n",
       "      <td>-0.000755</td>\n",
       "      <td>0.198840</td>\n",
       "      <td>-0.065689</td>\n",
       "      <td>-0.017763</td>\n",
       "      <td>-0.093742</td>\n",
       "      <td>1.000000</td>\n",
       "      <td>NaN</td>\n",
       "      <td>NaN</td>\n",
       "    </tr>\n",
       "    <tr>\n",
       "      <th>absences</th>\n",
       "      <td>NaN</td>\n",
       "      <td>NaN</td>\n",
       "      <td>NaN</td>\n",
       "      <td>NaN</td>\n",
       "      <td>NaN</td>\n",
       "      <td>NaN</td>\n",
       "      <td>NaN</td>\n",
       "      <td>NaN</td>\n",
       "      <td>NaN</td>\n",
       "      <td>NaN</td>\n",
       "      <td>NaN</td>\n",
       "      <td>NaN</td>\n",
       "    </tr>\n",
       "    <tr>\n",
       "      <th>score</th>\n",
       "      <td>NaN</td>\n",
       "      <td>NaN</td>\n",
       "      <td>NaN</td>\n",
       "      <td>NaN</td>\n",
       "      <td>NaN</td>\n",
       "      <td>NaN</td>\n",
       "      <td>NaN</td>\n",
       "      <td>NaN</td>\n",
       "      <td>NaN</td>\n",
       "      <td>NaN</td>\n",
       "      <td>NaN</td>\n",
       "      <td>NaN</td>\n",
       "    </tr>\n",
       "  </tbody>\n",
       "</table>\n",
       "</div>"
      ],
      "text/plain": [
       "                 age      Medu      Fedu  traveltime  studytime  failures  \\\n",
       "age         1.000000 -0.277001 -0.308023   -0.173553  -0.043985  0.156184   \n",
       "Medu       -0.277001  1.000000  0.763420   -0.139369   0.138471 -0.450749   \n",
       "Fedu       -0.308023  0.763420  1.000000    0.013349   0.243154 -0.305674   \n",
       "traveltime -0.173553 -0.139369  0.013349    1.000000  -0.141737 -0.152913   \n",
       "studytime  -0.043985  0.138471  0.243154   -0.141737   1.000000 -0.319569   \n",
       "failures    0.156184 -0.450749 -0.305674   -0.152913  -0.319569  1.000000   \n",
       "famrel      0.060089 -0.093115 -0.113557   -0.035283  -0.086567 -0.083497   \n",
       "freetime    0.189722  0.178854  0.108777   -0.067848  -0.102243 -0.037953   \n",
       "goout       0.090751  0.024078  0.126071    0.046303  -0.223221 -0.201397   \n",
       "health     -0.224359 -0.104942  0.040732   -0.144564  -0.000755  0.198840   \n",
       "absences         NaN       NaN       NaN         NaN        NaN       NaN   \n",
       "score            NaN       NaN       NaN         NaN        NaN       NaN   \n",
       "\n",
       "              famrel  freetime     goout    health  absences  score  \n",
       "age         0.060089  0.189722  0.090751 -0.224359       NaN    NaN  \n",
       "Medu       -0.093115  0.178854  0.024078 -0.104942       NaN    NaN  \n",
       "Fedu       -0.113557  0.108777  0.126071  0.040732       NaN    NaN  \n",
       "traveltime -0.035283 -0.067848  0.046303 -0.144564       NaN    NaN  \n",
       "studytime  -0.086567 -0.102243 -0.223221 -0.000755       NaN    NaN  \n",
       "failures   -0.083497 -0.037953 -0.201397  0.198840       NaN    NaN  \n",
       "famrel      1.000000  0.137271  0.279452 -0.065689       NaN    NaN  \n",
       "freetime    0.137271  1.000000  0.319699 -0.017763       NaN    NaN  \n",
       "goout       0.279452  0.319699  1.000000 -0.093742       NaN    NaN  \n",
       "health     -0.065689 -0.017763 -0.093742  1.000000       NaN    NaN  \n",
       "absences         NaN       NaN       NaN       NaN       NaN    NaN  \n",
       "score            NaN       NaN       NaN       NaN       NaN    NaN  "
      ]
     },
     "execution_count": 145,
     "metadata": {},
     "output_type": "execute_result"
    }
   ],
   "source": [
    "df[df.score == 0].corr()"
   ]
  },
  {
   "cell_type": "markdown",
   "metadata": {},
   "source": [
    "По данной группе видим высокую степень корреляции даных по параметрам Medu и Fedu, - но мы их и так исключили на этапе предварительного анализа."
   ]
  },
  {
   "cell_type": "markdown",
   "metadata": {},
   "source": [
    "# Проведем анализ всех параметров с помощью теста Стьюдента"
   ]
  },
  {
   "cell_type": "markdown",
   "metadata": {},
   "source": [
    "Найдем статистически значимые различия для всех значений парметров при уровне pvalue <= 0.1:"
   ]
  },
  {
   "cell_type": "code",
   "execution_count": 146,
   "metadata": {
    "scrolled": true
   },
   "outputs": [
    {
     "name": "stdout",
     "output_type": "stream",
     "text": [
      "['sex', 'address', 'Medu', 'Fedu', 'Mjob', 'failures', 'schoolsup', 'paid', 'higher', 'romantic', 'goout', 'absences', 'score']\n"
     ]
    }
   ],
   "source": [
    "ttest_columns = []\n",
    "for column in df.columns:\n",
    "    cols = df.loc[:, column].value_counts().index[:10]\n",
    "    combinations_all = list(combinations(cols, 2))\n",
    "    for comb in combinations_all:\n",
    "        if ttest_ind(df.loc[df.loc[:, column] == comb[0], 'score'], \n",
    "                     df.loc[df.loc[:, column] == comb[1], 'score']).pvalue <= 0.1 / len(combinations_all):\n",
    "            ttest_columns.append(column)\n",
    "            break\n",
    "\n",
    "print(ttest_columns)"
   ]
  },
  {
   "cell_type": "markdown",
   "metadata": {},
   "source": [
    "Сформируем список параметров отобранных в рамках предварительного анализа:"
   ]
  },
  {
   "cell_type": "code",
   "execution_count": 147,
   "metadata": {},
   "outputs": [
    {
     "name": "stdout",
     "output_type": "stream",
     "text": [
      "['age', 'address', 'Medu', 'Fedu', 'Mjob', 'reason', 'guardian', 'studytime', 'failures', 'schoolsup', 'higher', 'romantic', 'freetime', 'goout', 'health', 'absences']\n"
     ]
    }
   ],
   "source": [
    "column_average_score = list()\n",
    "for i in results:\n",
    "    if 'df_all' in i and i[-1] == '+':\n",
    "        column_average_score.append(i[7:-3])\n",
    "print(column_average_score)        "
   ]
  },
  {
   "cell_type": "markdown",
   "metadata": {},
   "source": [
    "Выведем какие параметры отобрал тест Стьюдента, которые мы не учли в рамках предварительного анализа:"
   ]
  },
  {
   "cell_type": "code",
   "execution_count": 148,
   "metadata": {},
   "outputs": [
    {
     "name": "stdout",
     "output_type": "stream",
     "text": [
      "sex\n",
      "paid\n",
      "score\n"
     ]
    }
   ],
   "source": [
    "for i in ttest_columns:\n",
    "    if i not in column_average_score:\n",
    "        print(i)"
   ]
  },
  {
   "cell_type": "markdown",
   "metadata": {},
   "source": [
    "Добавим параметры 'sex' и 'paid' в итоговый список исследуемых параметров:"
   ]
  },
  {
   "cell_type": "code",
   "execution_count": 149,
   "metadata": {},
   "outputs": [
    {
     "name": "stdout",
     "output_type": "stream",
     "text": [
      "['age', 'address', 'Medu', 'Fedu', 'Mjob', 'reason', 'guardian', 'studytime', 'failures', 'schoolsup', 'higher', 'romantic', 'freetime', 'goout', 'health', 'absences', 'sex', 'paid']\n"
     ]
    }
   ],
   "source": [
    "column_average_score.append('sex')\n",
    "column_average_score.append('paid')\n",
    "print(column_average_score)"
   ]
  },
  {
   "cell_type": "markdown",
   "metadata": {},
   "source": [
    "# ВЫВОДЫ"
   ]
  },
  {
   "cell_type": "markdown",
   "metadata": {},
   "source": [
    "## Основные решения к подходу в анализе данных:"
   ]
  },
  {
   "cell_type": "markdown",
   "metadata": {},
   "source": [
    "    1) Критерием для включения параметра в модель обозначили отличее минимум в 10% для наибольшего и наименьшего значения средних оценок внутри групп данного параметра;\n",
    "    2) Построение предсказывающей модели будет производится на основании двух отличных гипотез (и соответственно для каждой гипотезы будут отбираться различные параметры):\n",
    "        - существует набор параметром которые предсказывают вероятность сдачи экзамена на 0 баллов;\n",
    "        - существует набор параметром которые предсказывают вероятность сдачи экзамена от 20 до 100 баллов;\n",
    "    "
   ]
  },
  {
   "cell_type": "markdown",
   "metadata": {},
   "source": [
    "## Резюме по обработке исходных данных:"
   ]
  },
  {
   "cell_type": "markdown",
   "metadata": {},
   "source": [
    "    1) удалили строки с пустыми значениями в ключевом параметре - score (6 строк);\n",
    "    2) удалили значение '20' для группы 'age', - т.к. группа малочислена (3чел) и нарушает тенденцию по данному параметру;\n",
    "    3) удалили значение '0' для группы 'Medu', - т.к. группа малочислена (3чел) и нарушает тенденцию по данному параметру;\n",
    "    4) удалили ошибочное значение для параметра 'Fedu': '40';\n",
    "    5) удалили значение '0' для группы 'Fedu', - т.к. группа малочислена (2чел) и нарушает тенденцию по данному параметру;\n",
    "    \n",
    "    Учитывая низкую выборку для значений n = [2, 3] и существенное отличие между средними оценками для n=0 и n =[1, 2, 3] объеденим в одну группу значения [1, 2, 3]:\n",
    "    \n",
    "    6) удалили ошибочное значение для параметра 'famrel': '-1';\n",
    "    7) заменим значения score для 'famrel'='1' на среднее по группе 'famrel'='2', - т.к. группа малочислена (7чел) и нарушает тенденцию по данному параметру;\n",
    "    8) удалим полностью столбец 'studytime, granular' - т.к. данные по нему составляют полную обратную корреляциюпараметру 'studytime';\n",
    "    9) в параметре absences объеденим данные по нечетным значениям пропусков занятий с четными - т.к. кол-во нечетных пропусков занятий на порядок меньше чем четных (для упрощение анализа и сокращения групп параметра);\n",
    "    10) устраним правый хвост выброса для параметра absences (больше величины q75% + 1.5IQR)."
   ]
  },
  {
   "cell_type": "markdown",
   "metadata": {},
   "source": [
    "## Итоговый результат по отбору параметров для построения модели:"
   ]
  },
  {
   "cell_type": "markdown",
   "metadata": {},
   "source": [
    "Сформируем два списка параметров используя сформировнный словарь results:\n",
    "\n",
    "    - один для прогнозирования оценки по математике;\n",
    "    - второй для прогнозирования сдачи экзамена на 0 баллов."
   ]
  },
  {
   "cell_type": "code",
   "execution_count": 150,
   "metadata": {
    "scrolled": true
   },
   "outputs": [
    {
     "name": "stdout",
     "output_type": "stream",
     "text": [
      "Всего отобранно 18 параметров для прогнозирования оценки по математике:\n",
      "['age', 'address', 'Medu', 'Fedu', 'Mjob', 'reason', 'guardian', 'studytime', 'failures', 'schoolsup', 'higher', 'romantic', 'freetime', 'goout', 'health', 'absences', 'sex', 'paid']\n",
      "\n",
      "Всего отобранно 5 параметров для прогнозирования сдачи экзамена на 0 баллов:\n",
      "['age', 'Medu', 'failures', 'higher', 'goout']\n"
     ]
    }
   ],
   "source": [
    "print(f'Всего отобранно {len(column_average_score)} параметров для прогнозирования оценки по математике:')\n",
    "print(column_average_score)\n",
    "        \n",
    "n, column_zero_score = 0, list()\n",
    "for i in results:\n",
    "    if 'score=0' in i and i[-1] == '+':\n",
    "        n += 1\n",
    "        column_zero_score.append(i[8:-3])\n",
    "print(f'\\nВсего отобранно {n} параметров для прогнозирования сдачи экзамена на 0 баллов:')\n",
    "print(column_zero_score)"
   ]
  }
 ],
 "metadata": {
  "colab": {
   "name": "Copy of [SF-DST] Movies IMBD v4.1 TEMPLATE.ipynb",
   "provenance": []
  },
  "kernelspec": {
   "display_name": "Python 3",
   "language": "python",
   "name": "python3"
  },
  "language_info": {
   "codemirror_mode": {
    "name": "ipython",
    "version": 3
   },
   "file_extension": ".py",
   "mimetype": "text/x-python",
   "name": "python",
   "nbconvert_exporter": "python",
   "pygments_lexer": "ipython3",
   "version": "3.8.8"
  }
 },
 "nbformat": 4,
 "nbformat_minor": 1
}
